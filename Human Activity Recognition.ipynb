{
  "nbformat": 4,
  "nbformat_minor": 0,
  "metadata": {
    "colab": {
      "provenance": [],
      "collapsed_sections": [
        "tRWk96AHKREH"
      ]
    },
    "kernelspec": {
      "name": "python3",
      "display_name": "Python 3"
    },
    "language_info": {
      "name": "python"
    }
  },
  "cells": [
    {
      "cell_type": "markdown",
      "source": [
        "#**Human Activity Recognition**"
      ],
      "metadata": {
        "id": "gKxao2IhOqAl"
      }
    },
    {
      "cell_type": "markdown",
      "source": [
        "###importing the Packages\n",
        "####Here are 4 essential packages used in this project\n",
        "1. Numpy\n",
        "2. Pandas\n",
        "3. Seaborn\n",
        "4. Matplotlib"
      ],
      "metadata": {
        "id": "WbCqbFARO4Bw"
      }
    },
    {
      "cell_type": "code",
      "execution_count": 1,
      "metadata": {
        "id": "lZaxkDy868aV"
      },
      "outputs": [],
      "source": [
        "import pandas as pd\n",
        "import numpy as np\n",
        "import seaborn as sns\n",
        "import matplotlib.pyplot as plt\n",
        "sns.set(rc={'figure.figsize':(12,9)})"
      ]
    },
    {
      "cell_type": "markdown",
      "source": [
        "#Creating Dataframe from dataset"
      ],
      "metadata": {
        "id": "dGh8VJh_HxUz"
      }
    },
    {
      "cell_type": "code",
      "source": [
        "dataset=pd.read_csv(\"/content/time_series_data_human_activities.csv\")\n"
      ],
      "metadata": {
        "id": "oiFdUuEx76ei"
      },
      "execution_count": 2,
      "outputs": []
    },
    {
      "cell_type": "markdown",
      "source": [
        "#Display Data from Dataframe"
      ],
      "metadata": {
        "id": "XdthX16XIuwj"
      }
    },
    {
      "cell_type": "code",
      "source": [
        "dataset"
      ],
      "metadata": {
        "colab": {
          "base_uri": "https://localhost:8080/",
          "height": 424
        },
        "id": "rR0FEBy-IzEe",
        "outputId": "9dcc7265-4b47-439a-8733-1fefb3311fc7"
      },
      "execution_count": 3,
      "outputs": [
        {
          "output_type": "execute_result",
          "data": {
            "text/plain": [
              "         user activity     timestamp  x-axis  y-axis    z-axis\n",
              "0           1  Walking  4.991920e+12    0.69   10.80 -2.030000\n",
              "1           1  Walking  4.991970e+12    6.85    7.44 -0.500000\n",
              "2           1  Walking  4.992020e+12    0.93    5.63 -0.500000\n",
              "3           1  Walking  4.992070e+12   -2.11    5.01 -0.690000\n",
              "4           1  Walking  4.992120e+12   -4.59    4.29 -1.950000\n",
              "...       ...      ...           ...     ...     ...       ...\n",
              "1048570    36  Jogging  1.345600e+13    2.72   10.80  2.301839\n",
              "1048571    36  Jogging  1.345610e+13   -3.45   -6.70 -6.020194\n",
              "1048572    36  Jogging  1.345610e+13    2.15   -3.98 -0.762740\n",
              "1048573    36  Jogging  1.345620e+13    2.07    8.96  4.821603\n",
              "1048574    36  Jogging  1.345620e+13   -3.26    6.89 -8.853226\n",
              "\n",
              "[1048575 rows x 6 columns]"
            ],
            "text/html": [
              "\n",
              "  <div id=\"df-76f70fc1-14af-4765-a8d3-6a9b87bca2db\">\n",
              "    <div class=\"colab-df-container\">\n",
              "      <div>\n",
              "<style scoped>\n",
              "    .dataframe tbody tr th:only-of-type {\n",
              "        vertical-align: middle;\n",
              "    }\n",
              "\n",
              "    .dataframe tbody tr th {\n",
              "        vertical-align: top;\n",
              "    }\n",
              "\n",
              "    .dataframe thead th {\n",
              "        text-align: right;\n",
              "    }\n",
              "</style>\n",
              "<table border=\"1\" class=\"dataframe\">\n",
              "  <thead>\n",
              "    <tr style=\"text-align: right;\">\n",
              "      <th></th>\n",
              "      <th>user</th>\n",
              "      <th>activity</th>\n",
              "      <th>timestamp</th>\n",
              "      <th>x-axis</th>\n",
              "      <th>y-axis</th>\n",
              "      <th>z-axis</th>\n",
              "    </tr>\n",
              "  </thead>\n",
              "  <tbody>\n",
              "    <tr>\n",
              "      <th>0</th>\n",
              "      <td>1</td>\n",
              "      <td>Walking</td>\n",
              "      <td>4.991920e+12</td>\n",
              "      <td>0.69</td>\n",
              "      <td>10.80</td>\n",
              "      <td>-2.030000</td>\n",
              "    </tr>\n",
              "    <tr>\n",
              "      <th>1</th>\n",
              "      <td>1</td>\n",
              "      <td>Walking</td>\n",
              "      <td>4.991970e+12</td>\n",
              "      <td>6.85</td>\n",
              "      <td>7.44</td>\n",
              "      <td>-0.500000</td>\n",
              "    </tr>\n",
              "    <tr>\n",
              "      <th>2</th>\n",
              "      <td>1</td>\n",
              "      <td>Walking</td>\n",
              "      <td>4.992020e+12</td>\n",
              "      <td>0.93</td>\n",
              "      <td>5.63</td>\n",
              "      <td>-0.500000</td>\n",
              "    </tr>\n",
              "    <tr>\n",
              "      <th>3</th>\n",
              "      <td>1</td>\n",
              "      <td>Walking</td>\n",
              "      <td>4.992070e+12</td>\n",
              "      <td>-2.11</td>\n",
              "      <td>5.01</td>\n",
              "      <td>-0.690000</td>\n",
              "    </tr>\n",
              "    <tr>\n",
              "      <th>4</th>\n",
              "      <td>1</td>\n",
              "      <td>Walking</td>\n",
              "      <td>4.992120e+12</td>\n",
              "      <td>-4.59</td>\n",
              "      <td>4.29</td>\n",
              "      <td>-1.950000</td>\n",
              "    </tr>\n",
              "    <tr>\n",
              "      <th>...</th>\n",
              "      <td>...</td>\n",
              "      <td>...</td>\n",
              "      <td>...</td>\n",
              "      <td>...</td>\n",
              "      <td>...</td>\n",
              "      <td>...</td>\n",
              "    </tr>\n",
              "    <tr>\n",
              "      <th>1048570</th>\n",
              "      <td>36</td>\n",
              "      <td>Jogging</td>\n",
              "      <td>1.345600e+13</td>\n",
              "      <td>2.72</td>\n",
              "      <td>10.80</td>\n",
              "      <td>2.301839</td>\n",
              "    </tr>\n",
              "    <tr>\n",
              "      <th>1048571</th>\n",
              "      <td>36</td>\n",
              "      <td>Jogging</td>\n",
              "      <td>1.345610e+13</td>\n",
              "      <td>-3.45</td>\n",
              "      <td>-6.70</td>\n",
              "      <td>-6.020194</td>\n",
              "    </tr>\n",
              "    <tr>\n",
              "      <th>1048572</th>\n",
              "      <td>36</td>\n",
              "      <td>Jogging</td>\n",
              "      <td>1.345610e+13</td>\n",
              "      <td>2.15</td>\n",
              "      <td>-3.98</td>\n",
              "      <td>-0.762740</td>\n",
              "    </tr>\n",
              "    <tr>\n",
              "      <th>1048573</th>\n",
              "      <td>36</td>\n",
              "      <td>Jogging</td>\n",
              "      <td>1.345620e+13</td>\n",
              "      <td>2.07</td>\n",
              "      <td>8.96</td>\n",
              "      <td>4.821603</td>\n",
              "    </tr>\n",
              "    <tr>\n",
              "      <th>1048574</th>\n",
              "      <td>36</td>\n",
              "      <td>Jogging</td>\n",
              "      <td>1.345620e+13</td>\n",
              "      <td>-3.26</td>\n",
              "      <td>6.89</td>\n",
              "      <td>-8.853226</td>\n",
              "    </tr>\n",
              "  </tbody>\n",
              "</table>\n",
              "<p>1048575 rows × 6 columns</p>\n",
              "</div>\n",
              "      <button class=\"colab-df-convert\" onclick=\"convertToInteractive('df-76f70fc1-14af-4765-a8d3-6a9b87bca2db')\"\n",
              "              title=\"Convert this dataframe to an interactive table.\"\n",
              "              style=\"display:none;\">\n",
              "        \n",
              "  <svg xmlns=\"http://www.w3.org/2000/svg\" height=\"24px\"viewBox=\"0 0 24 24\"\n",
              "       width=\"24px\">\n",
              "    <path d=\"M0 0h24v24H0V0z\" fill=\"none\"/>\n",
              "    <path d=\"M18.56 5.44l.94 2.06.94-2.06 2.06-.94-2.06-.94-.94-2.06-.94 2.06-2.06.94zm-11 1L8.5 8.5l.94-2.06 2.06-.94-2.06-.94L8.5 2.5l-.94 2.06-2.06.94zm10 10l.94 2.06.94-2.06 2.06-.94-2.06-.94-.94-2.06-.94 2.06-2.06.94z\"/><path d=\"M17.41 7.96l-1.37-1.37c-.4-.4-.92-.59-1.43-.59-.52 0-1.04.2-1.43.59L10.3 9.45l-7.72 7.72c-.78.78-.78 2.05 0 2.83L4 21.41c.39.39.9.59 1.41.59.51 0 1.02-.2 1.41-.59l7.78-7.78 2.81-2.81c.8-.78.8-2.07 0-2.86zM5.41 20L4 18.59l7.72-7.72 1.47 1.35L5.41 20z\"/>\n",
              "  </svg>\n",
              "      </button>\n",
              "      \n",
              "  <style>\n",
              "    .colab-df-container {\n",
              "      display:flex;\n",
              "      flex-wrap:wrap;\n",
              "      gap: 12px;\n",
              "    }\n",
              "\n",
              "    .colab-df-convert {\n",
              "      background-color: #E8F0FE;\n",
              "      border: none;\n",
              "      border-radius: 50%;\n",
              "      cursor: pointer;\n",
              "      display: none;\n",
              "      fill: #1967D2;\n",
              "      height: 32px;\n",
              "      padding: 0 0 0 0;\n",
              "      width: 32px;\n",
              "    }\n",
              "\n",
              "    .colab-df-convert:hover {\n",
              "      background-color: #E2EBFA;\n",
              "      box-shadow: 0px 1px 2px rgba(60, 64, 67, 0.3), 0px 1px 3px 1px rgba(60, 64, 67, 0.15);\n",
              "      fill: #174EA6;\n",
              "    }\n",
              "\n",
              "    [theme=dark] .colab-df-convert {\n",
              "      background-color: #3B4455;\n",
              "      fill: #D2E3FC;\n",
              "    }\n",
              "\n",
              "    [theme=dark] .colab-df-convert:hover {\n",
              "      background-color: #434B5C;\n",
              "      box-shadow: 0px 1px 3px 1px rgba(0, 0, 0, 0.15);\n",
              "      filter: drop-shadow(0px 1px 2px rgba(0, 0, 0, 0.3));\n",
              "      fill: #FFFFFF;\n",
              "    }\n",
              "  </style>\n",
              "\n",
              "      <script>\n",
              "        const buttonEl =\n",
              "          document.querySelector('#df-76f70fc1-14af-4765-a8d3-6a9b87bca2db button.colab-df-convert');\n",
              "        buttonEl.style.display =\n",
              "          google.colab.kernel.accessAllowed ? 'block' : 'none';\n",
              "\n",
              "        async function convertToInteractive(key) {\n",
              "          const element = document.querySelector('#df-76f70fc1-14af-4765-a8d3-6a9b87bca2db');\n",
              "          const dataTable =\n",
              "            await google.colab.kernel.invokeFunction('convertToInteractive',\n",
              "                                                     [key], {});\n",
              "          if (!dataTable) return;\n",
              "\n",
              "          const docLinkHtml = 'Like what you see? Visit the ' +\n",
              "            '<a target=\"_blank\" href=https://colab.research.google.com/notebooks/data_table.ipynb>data table notebook</a>'\n",
              "            + ' to learn more about interactive tables.';\n",
              "          element.innerHTML = '';\n",
              "          dataTable['output_type'] = 'display_data';\n",
              "          await google.colab.output.renderOutput(dataTable, element);\n",
              "          const docLink = document.createElement('div');\n",
              "          docLink.innerHTML = docLinkHtml;\n",
              "          element.appendChild(docLink);\n",
              "        }\n",
              "      </script>\n",
              "    </div>\n",
              "  </div>\n",
              "  "
            ]
          },
          "metadata": {},
          "execution_count": 3
        }
      ]
    },
    {
      "cell_type": "markdown",
      "source": [
        "#Looking at HEAD of dataset"
      ],
      "metadata": {
        "id": "jeTUEGZgJBGj"
      }
    },
    {
      "cell_type": "code",
      "source": [
        "dataset.head()"
      ],
      "metadata": {
        "id": "7PseppMyJEXS",
        "colab": {
          "base_uri": "https://localhost:8080/",
          "height": 206
        },
        "outputId": "9cc95a99-96df-42a5-c998-c879a291a872"
      },
      "execution_count": 4,
      "outputs": [
        {
          "output_type": "execute_result",
          "data": {
            "text/plain": [
              "   user activity     timestamp  x-axis  y-axis  z-axis\n",
              "0     1  Walking  4.991920e+12    0.69   10.80   -2.03\n",
              "1     1  Walking  4.991970e+12    6.85    7.44   -0.50\n",
              "2     1  Walking  4.992020e+12    0.93    5.63   -0.50\n",
              "3     1  Walking  4.992070e+12   -2.11    5.01   -0.69\n",
              "4     1  Walking  4.992120e+12   -4.59    4.29   -1.95"
            ],
            "text/html": [
              "\n",
              "  <div id=\"df-cbc5e7b9-896e-4224-8954-406a432acaf9\">\n",
              "    <div class=\"colab-df-container\">\n",
              "      <div>\n",
              "<style scoped>\n",
              "    .dataframe tbody tr th:only-of-type {\n",
              "        vertical-align: middle;\n",
              "    }\n",
              "\n",
              "    .dataframe tbody tr th {\n",
              "        vertical-align: top;\n",
              "    }\n",
              "\n",
              "    .dataframe thead th {\n",
              "        text-align: right;\n",
              "    }\n",
              "</style>\n",
              "<table border=\"1\" class=\"dataframe\">\n",
              "  <thead>\n",
              "    <tr style=\"text-align: right;\">\n",
              "      <th></th>\n",
              "      <th>user</th>\n",
              "      <th>activity</th>\n",
              "      <th>timestamp</th>\n",
              "      <th>x-axis</th>\n",
              "      <th>y-axis</th>\n",
              "      <th>z-axis</th>\n",
              "    </tr>\n",
              "  </thead>\n",
              "  <tbody>\n",
              "    <tr>\n",
              "      <th>0</th>\n",
              "      <td>1</td>\n",
              "      <td>Walking</td>\n",
              "      <td>4.991920e+12</td>\n",
              "      <td>0.69</td>\n",
              "      <td>10.80</td>\n",
              "      <td>-2.03</td>\n",
              "    </tr>\n",
              "    <tr>\n",
              "      <th>1</th>\n",
              "      <td>1</td>\n",
              "      <td>Walking</td>\n",
              "      <td>4.991970e+12</td>\n",
              "      <td>6.85</td>\n",
              "      <td>7.44</td>\n",
              "      <td>-0.50</td>\n",
              "    </tr>\n",
              "    <tr>\n",
              "      <th>2</th>\n",
              "      <td>1</td>\n",
              "      <td>Walking</td>\n",
              "      <td>4.992020e+12</td>\n",
              "      <td>0.93</td>\n",
              "      <td>5.63</td>\n",
              "      <td>-0.50</td>\n",
              "    </tr>\n",
              "    <tr>\n",
              "      <th>3</th>\n",
              "      <td>1</td>\n",
              "      <td>Walking</td>\n",
              "      <td>4.992070e+12</td>\n",
              "      <td>-2.11</td>\n",
              "      <td>5.01</td>\n",
              "      <td>-0.69</td>\n",
              "    </tr>\n",
              "    <tr>\n",
              "      <th>4</th>\n",
              "      <td>1</td>\n",
              "      <td>Walking</td>\n",
              "      <td>4.992120e+12</td>\n",
              "      <td>-4.59</td>\n",
              "      <td>4.29</td>\n",
              "      <td>-1.95</td>\n",
              "    </tr>\n",
              "  </tbody>\n",
              "</table>\n",
              "</div>\n",
              "      <button class=\"colab-df-convert\" onclick=\"convertToInteractive('df-cbc5e7b9-896e-4224-8954-406a432acaf9')\"\n",
              "              title=\"Convert this dataframe to an interactive table.\"\n",
              "              style=\"display:none;\">\n",
              "        \n",
              "  <svg xmlns=\"http://www.w3.org/2000/svg\" height=\"24px\"viewBox=\"0 0 24 24\"\n",
              "       width=\"24px\">\n",
              "    <path d=\"M0 0h24v24H0V0z\" fill=\"none\"/>\n",
              "    <path d=\"M18.56 5.44l.94 2.06.94-2.06 2.06-.94-2.06-.94-.94-2.06-.94 2.06-2.06.94zm-11 1L8.5 8.5l.94-2.06 2.06-.94-2.06-.94L8.5 2.5l-.94 2.06-2.06.94zm10 10l.94 2.06.94-2.06 2.06-.94-2.06-.94-.94-2.06-.94 2.06-2.06.94z\"/><path d=\"M17.41 7.96l-1.37-1.37c-.4-.4-.92-.59-1.43-.59-.52 0-1.04.2-1.43.59L10.3 9.45l-7.72 7.72c-.78.78-.78 2.05 0 2.83L4 21.41c.39.39.9.59 1.41.59.51 0 1.02-.2 1.41-.59l7.78-7.78 2.81-2.81c.8-.78.8-2.07 0-2.86zM5.41 20L4 18.59l7.72-7.72 1.47 1.35L5.41 20z\"/>\n",
              "  </svg>\n",
              "      </button>\n",
              "      \n",
              "  <style>\n",
              "    .colab-df-container {\n",
              "      display:flex;\n",
              "      flex-wrap:wrap;\n",
              "      gap: 12px;\n",
              "    }\n",
              "\n",
              "    .colab-df-convert {\n",
              "      background-color: #E8F0FE;\n",
              "      border: none;\n",
              "      border-radius: 50%;\n",
              "      cursor: pointer;\n",
              "      display: none;\n",
              "      fill: #1967D2;\n",
              "      height: 32px;\n",
              "      padding: 0 0 0 0;\n",
              "      width: 32px;\n",
              "    }\n",
              "\n",
              "    .colab-df-convert:hover {\n",
              "      background-color: #E2EBFA;\n",
              "      box-shadow: 0px 1px 2px rgba(60, 64, 67, 0.3), 0px 1px 3px 1px rgba(60, 64, 67, 0.15);\n",
              "      fill: #174EA6;\n",
              "    }\n",
              "\n",
              "    [theme=dark] .colab-df-convert {\n",
              "      background-color: #3B4455;\n",
              "      fill: #D2E3FC;\n",
              "    }\n",
              "\n",
              "    [theme=dark] .colab-df-convert:hover {\n",
              "      background-color: #434B5C;\n",
              "      box-shadow: 0px 1px 3px 1px rgba(0, 0, 0, 0.15);\n",
              "      filter: drop-shadow(0px 1px 2px rgba(0, 0, 0, 0.3));\n",
              "      fill: #FFFFFF;\n",
              "    }\n",
              "  </style>\n",
              "\n",
              "      <script>\n",
              "        const buttonEl =\n",
              "          document.querySelector('#df-cbc5e7b9-896e-4224-8954-406a432acaf9 button.colab-df-convert');\n",
              "        buttonEl.style.display =\n",
              "          google.colab.kernel.accessAllowed ? 'block' : 'none';\n",
              "\n",
              "        async function convertToInteractive(key) {\n",
              "          const element = document.querySelector('#df-cbc5e7b9-896e-4224-8954-406a432acaf9');\n",
              "          const dataTable =\n",
              "            await google.colab.kernel.invokeFunction('convertToInteractive',\n",
              "                                                     [key], {});\n",
              "          if (!dataTable) return;\n",
              "\n",
              "          const docLinkHtml = 'Like what you see? Visit the ' +\n",
              "            '<a target=\"_blank\" href=https://colab.research.google.com/notebooks/data_table.ipynb>data table notebook</a>'\n",
              "            + ' to learn more about interactive tables.';\n",
              "          element.innerHTML = '';\n",
              "          dataTable['output_type'] = 'display_data';\n",
              "          await google.colab.output.renderOutput(dataTable, element);\n",
              "          const docLink = document.createElement('div');\n",
              "          docLink.innerHTML = docLinkHtml;\n",
              "          element.appendChild(docLink);\n",
              "        }\n",
              "      </script>\n",
              "    </div>\n",
              "  </div>\n",
              "  "
            ]
          },
          "metadata": {},
          "execution_count": 4
        }
      ]
    },
    {
      "cell_type": "markdown",
      "source": [
        "#Looking at the Tail of Dataset"
      ],
      "metadata": {
        "id": "IwSK5DqmJOW-"
      }
    },
    {
      "cell_type": "code",
      "source": [
        "dataset.tail()"
      ],
      "metadata": {
        "colab": {
          "base_uri": "https://localhost:8080/",
          "height": 206
        },
        "id": "bcroE28YJSoa",
        "outputId": "e27f7de3-e02b-4f88-b499-45b7ba57302e"
      },
      "execution_count": 5,
      "outputs": [
        {
          "output_type": "execute_result",
          "data": {
            "text/plain": [
              "         user activity     timestamp  x-axis  y-axis    z-axis\n",
              "1048570    36  Jogging  1.345600e+13    2.72   10.80  2.301839\n",
              "1048571    36  Jogging  1.345610e+13   -3.45   -6.70 -6.020194\n",
              "1048572    36  Jogging  1.345610e+13    2.15   -3.98 -0.762740\n",
              "1048573    36  Jogging  1.345620e+13    2.07    8.96  4.821603\n",
              "1048574    36  Jogging  1.345620e+13   -3.26    6.89 -8.853226"
            ],
            "text/html": [
              "\n",
              "  <div id=\"df-6b8f215e-fba7-4bba-9972-2ae10d6c908c\">\n",
              "    <div class=\"colab-df-container\">\n",
              "      <div>\n",
              "<style scoped>\n",
              "    .dataframe tbody tr th:only-of-type {\n",
              "        vertical-align: middle;\n",
              "    }\n",
              "\n",
              "    .dataframe tbody tr th {\n",
              "        vertical-align: top;\n",
              "    }\n",
              "\n",
              "    .dataframe thead th {\n",
              "        text-align: right;\n",
              "    }\n",
              "</style>\n",
              "<table border=\"1\" class=\"dataframe\">\n",
              "  <thead>\n",
              "    <tr style=\"text-align: right;\">\n",
              "      <th></th>\n",
              "      <th>user</th>\n",
              "      <th>activity</th>\n",
              "      <th>timestamp</th>\n",
              "      <th>x-axis</th>\n",
              "      <th>y-axis</th>\n",
              "      <th>z-axis</th>\n",
              "    </tr>\n",
              "  </thead>\n",
              "  <tbody>\n",
              "    <tr>\n",
              "      <th>1048570</th>\n",
              "      <td>36</td>\n",
              "      <td>Jogging</td>\n",
              "      <td>1.345600e+13</td>\n",
              "      <td>2.72</td>\n",
              "      <td>10.80</td>\n",
              "      <td>2.301839</td>\n",
              "    </tr>\n",
              "    <tr>\n",
              "      <th>1048571</th>\n",
              "      <td>36</td>\n",
              "      <td>Jogging</td>\n",
              "      <td>1.345610e+13</td>\n",
              "      <td>-3.45</td>\n",
              "      <td>-6.70</td>\n",
              "      <td>-6.020194</td>\n",
              "    </tr>\n",
              "    <tr>\n",
              "      <th>1048572</th>\n",
              "      <td>36</td>\n",
              "      <td>Jogging</td>\n",
              "      <td>1.345610e+13</td>\n",
              "      <td>2.15</td>\n",
              "      <td>-3.98</td>\n",
              "      <td>-0.762740</td>\n",
              "    </tr>\n",
              "    <tr>\n",
              "      <th>1048573</th>\n",
              "      <td>36</td>\n",
              "      <td>Jogging</td>\n",
              "      <td>1.345620e+13</td>\n",
              "      <td>2.07</td>\n",
              "      <td>8.96</td>\n",
              "      <td>4.821603</td>\n",
              "    </tr>\n",
              "    <tr>\n",
              "      <th>1048574</th>\n",
              "      <td>36</td>\n",
              "      <td>Jogging</td>\n",
              "      <td>1.345620e+13</td>\n",
              "      <td>-3.26</td>\n",
              "      <td>6.89</td>\n",
              "      <td>-8.853226</td>\n",
              "    </tr>\n",
              "  </tbody>\n",
              "</table>\n",
              "</div>\n",
              "      <button class=\"colab-df-convert\" onclick=\"convertToInteractive('df-6b8f215e-fba7-4bba-9972-2ae10d6c908c')\"\n",
              "              title=\"Convert this dataframe to an interactive table.\"\n",
              "              style=\"display:none;\">\n",
              "        \n",
              "  <svg xmlns=\"http://www.w3.org/2000/svg\" height=\"24px\"viewBox=\"0 0 24 24\"\n",
              "       width=\"24px\">\n",
              "    <path d=\"M0 0h24v24H0V0z\" fill=\"none\"/>\n",
              "    <path d=\"M18.56 5.44l.94 2.06.94-2.06 2.06-.94-2.06-.94-.94-2.06-.94 2.06-2.06.94zm-11 1L8.5 8.5l.94-2.06 2.06-.94-2.06-.94L8.5 2.5l-.94 2.06-2.06.94zm10 10l.94 2.06.94-2.06 2.06-.94-2.06-.94-.94-2.06-.94 2.06-2.06.94z\"/><path d=\"M17.41 7.96l-1.37-1.37c-.4-.4-.92-.59-1.43-.59-.52 0-1.04.2-1.43.59L10.3 9.45l-7.72 7.72c-.78.78-.78 2.05 0 2.83L4 21.41c.39.39.9.59 1.41.59.51 0 1.02-.2 1.41-.59l7.78-7.78 2.81-2.81c.8-.78.8-2.07 0-2.86zM5.41 20L4 18.59l7.72-7.72 1.47 1.35L5.41 20z\"/>\n",
              "  </svg>\n",
              "      </button>\n",
              "      \n",
              "  <style>\n",
              "    .colab-df-container {\n",
              "      display:flex;\n",
              "      flex-wrap:wrap;\n",
              "      gap: 12px;\n",
              "    }\n",
              "\n",
              "    .colab-df-convert {\n",
              "      background-color: #E8F0FE;\n",
              "      border: none;\n",
              "      border-radius: 50%;\n",
              "      cursor: pointer;\n",
              "      display: none;\n",
              "      fill: #1967D2;\n",
              "      height: 32px;\n",
              "      padding: 0 0 0 0;\n",
              "      width: 32px;\n",
              "    }\n",
              "\n",
              "    .colab-df-convert:hover {\n",
              "      background-color: #E2EBFA;\n",
              "      box-shadow: 0px 1px 2px rgba(60, 64, 67, 0.3), 0px 1px 3px 1px rgba(60, 64, 67, 0.15);\n",
              "      fill: #174EA6;\n",
              "    }\n",
              "\n",
              "    [theme=dark] .colab-df-convert {\n",
              "      background-color: #3B4455;\n",
              "      fill: #D2E3FC;\n",
              "    }\n",
              "\n",
              "    [theme=dark] .colab-df-convert:hover {\n",
              "      background-color: #434B5C;\n",
              "      box-shadow: 0px 1px 3px 1px rgba(0, 0, 0, 0.15);\n",
              "      filter: drop-shadow(0px 1px 2px rgba(0, 0, 0, 0.3));\n",
              "      fill: #FFFFFF;\n",
              "    }\n",
              "  </style>\n",
              "\n",
              "      <script>\n",
              "        const buttonEl =\n",
              "          document.querySelector('#df-6b8f215e-fba7-4bba-9972-2ae10d6c908c button.colab-df-convert');\n",
              "        buttonEl.style.display =\n",
              "          google.colab.kernel.accessAllowed ? 'block' : 'none';\n",
              "\n",
              "        async function convertToInteractive(key) {\n",
              "          const element = document.querySelector('#df-6b8f215e-fba7-4bba-9972-2ae10d6c908c');\n",
              "          const dataTable =\n",
              "            await google.colab.kernel.invokeFunction('convertToInteractive',\n",
              "                                                     [key], {});\n",
              "          if (!dataTable) return;\n",
              "\n",
              "          const docLinkHtml = 'Like what you see? Visit the ' +\n",
              "            '<a target=\"_blank\" href=https://colab.research.google.com/notebooks/data_table.ipynb>data table notebook</a>'\n",
              "            + ' to learn more about interactive tables.';\n",
              "          element.innerHTML = '';\n",
              "          dataTable['output_type'] = 'display_data';\n",
              "          await google.colab.output.renderOutput(dataTable, element);\n",
              "          const docLink = document.createElement('div');\n",
              "          docLink.innerHTML = docLinkHtml;\n",
              "          element.appendChild(docLink);\n",
              "        }\n",
              "      </script>\n",
              "    </div>\n",
              "  </div>\n",
              "  "
            ]
          },
          "metadata": {},
          "execution_count": 5
        }
      ]
    },
    {
      "cell_type": "markdown",
      "source": [
        "#How Many Columns and Rows are in Dataframe?"
      ],
      "metadata": {
        "id": "Bl1zsESUJbXj"
      }
    },
    {
      "cell_type": "code",
      "source": [
        "print(\"The data frame has {} rows and {} columns\".format(dataset.shape[0],dataset.shape[1]))"
      ],
      "metadata": {
        "colab": {
          "base_uri": "https://localhost:8080/"
        },
        "id": "CaZUizRBJci6",
        "outputId": "565e6709-1a78-4675-cce7-57e890ed9c3d"
      },
      "execution_count": 6,
      "outputs": [
        {
          "output_type": "stream",
          "name": "stdout",
          "text": [
            "The data frame has 1048575 rows and 6 columns\n"
          ]
        }
      ]
    },
    {
      "cell_type": "markdown",
      "source": [
        "#What is the Type of each Column?"
      ],
      "metadata": {
        "id": "QNKNL0U8JofA"
      }
    },
    {
      "cell_type": "code",
      "source": [
        "dataset.dtypes"
      ],
      "metadata": {
        "colab": {
          "base_uri": "https://localhost:8080/"
        },
        "id": "9MobRU8HJpcE",
        "outputId": "d3841f10-a2f4-4825-bad1-0cbd89d6aa3a"
      },
      "execution_count": 7,
      "outputs": [
        {
          "output_type": "execute_result",
          "data": {
            "text/plain": [
              "user           int64\n",
              "activity      object\n",
              "timestamp    float64\n",
              "x-axis       float64\n",
              "y-axis       float64\n",
              "z-axis       float64\n",
              "dtype: object"
            ]
          },
          "metadata": {},
          "execution_count": 7
        }
      ]
    },
    {
      "cell_type": "markdown",
      "source": [
        "#Information of DataFrame"
      ],
      "metadata": {
        "id": "DkVEJPKxJ3Ju"
      }
    },
    {
      "cell_type": "code",
      "source": [
        "dataset.info()"
      ],
      "metadata": {
        "colab": {
          "base_uri": "https://localhost:8080/"
        },
        "id": "wfQRD_PLJ315",
        "outputId": "3a32bed4-eb9d-4a24-9281-940481ca57ba"
      },
      "execution_count": 8,
      "outputs": [
        {
          "output_type": "stream",
          "name": "stdout",
          "text": [
            "<class 'pandas.core.frame.DataFrame'>\n",
            "RangeIndex: 1048575 entries, 0 to 1048574\n",
            "Data columns (total 6 columns):\n",
            " #   Column     Non-Null Count    Dtype  \n",
            "---  ------     --------------    -----  \n",
            " 0   user       1048575 non-null  int64  \n",
            " 1   activity   1048575 non-null  object \n",
            " 2   timestamp  1048575 non-null  float64\n",
            " 3   x-axis     1048575 non-null  float64\n",
            " 4   y-axis     1048575 non-null  float64\n",
            " 5   z-axis     1048575 non-null  float64\n",
            "dtypes: float64(4), int64(1), object(1)\n",
            "memory usage: 48.0+ MB\n"
          ]
        }
      ]
    },
    {
      "cell_type": "markdown",
      "source": [
        "#Are there any NULL values in the data ?"
      ],
      "metadata": {
        "id": "_ZWI51C6KDol"
      }
    },
    {
      "cell_type": "code",
      "source": [
        "dataset.apply(lambda x:sum(x.isnull()))"
      ],
      "metadata": {
        "colab": {
          "base_uri": "https://localhost:8080/"
        },
        "id": "cbbKJ0LMKEWg",
        "outputId": "cb743a67-c384-467c-f35c-eea3fc2ba5ae"
      },
      "execution_count": 9,
      "outputs": [
        {
          "output_type": "execute_result",
          "data": {
            "text/plain": [
              "user         0\n",
              "activity     0\n",
              "timestamp    0\n",
              "x-axis       0\n",
              "y-axis       0\n",
              "z-axis       0\n",
              "dtype: int64"
            ]
          },
          "metadata": {},
          "execution_count": 9
        }
      ]
    },
    {
      "cell_type": "markdown",
      "source": [
        "####From the above we can see there are no NULL values"
      ],
      "metadata": {
        "id": "tRWk96AHKREH"
      }
    },
    {
      "cell_type": "markdown",
      "source": [
        "#Size of the Dataframe"
      ],
      "metadata": {
        "id": "E7u54URPKTN3"
      }
    },
    {
      "cell_type": "code",
      "source": [
        "dataset.size"
      ],
      "metadata": {
        "colab": {
          "base_uri": "https://localhost:8080/"
        },
        "id": "EYLYy6hXKXiw",
        "outputId": "73be942b-979e-42d2-889f-b6f661d6b313"
      },
      "execution_count": 10,
      "outputs": [
        {
          "output_type": "execute_result",
          "data": {
            "text/plain": [
              "6291450"
            ]
          },
          "metadata": {},
          "execution_count": 10
        }
      ]
    },
    {
      "cell_type": "markdown",
      "source": [
        "#how many activities are there?"
      ],
      "metadata": {
        "id": "Ie4TNjfTNoeB"
      }
    },
    {
      "cell_type": "code",
      "source": [
        "dataset['activity'].value_counts()"
      ],
      "metadata": {
        "colab": {
          "base_uri": "https://localhost:8080/"
        },
        "id": "Q72NCoiENqtt",
        "outputId": "671ee40c-e488-4fec-f77d-5b6d535f1b4b"
      },
      "execution_count": 11,
      "outputs": [
        {
          "output_type": "execute_result",
          "data": {
            "text/plain": [
              "Walking       417901\n",
              "Jogging       313573\n",
              "Upstairs      117169\n",
              "Downstairs     96025\n",
              "Sitting        57439\n",
              "Standing       46468\n",
              "Name: activity, dtype: int64"
            ]
          },
          "metadata": {},
          "execution_count": 11
        }
      ]
    },
    {
      "cell_type": "markdown",
      "source": [
        "# Activities of the user"
      ],
      "metadata": {
        "id": "eaTR4tSDPBzp"
      }
    },
    {
      "cell_type": "code",
      "source": [
        "dataset['activity'].value_counts()"
      ],
      "metadata": {
        "colab": {
          "base_uri": "https://localhost:8080/"
        },
        "id": "AE3RreWkKp6t",
        "outputId": "b03c029b-ba9f-44cd-9b54-7f896eb62bac"
      },
      "execution_count": 12,
      "outputs": [
        {
          "output_type": "execute_result",
          "data": {
            "text/plain": [
              "Walking       417901\n",
              "Jogging       313573\n",
              "Upstairs      117169\n",
              "Downstairs     96025\n",
              "Sitting        57439\n",
              "Standing       46468\n",
              "Name: activity, dtype: int64"
            ]
          },
          "metadata": {},
          "execution_count": 12
        }
      ]
    },
    {
      "cell_type": "markdown",
      "source": [
        "# **Exploratory Analysis**\n",
        "##Now let’s see how the individual users are contributing to each activity."
      ],
      "metadata": {
        "id": "SmM9REDfK0ar"
      }
    },
    {
      "cell_type": "code",
      "source": [
        "sns.countplot(x = 'user',hue = 'activity',data = dataset)\n",
        "plt.title('Activities by Users')\n",
        "plt.show()"
      ],
      "metadata": {
        "colab": {
          "base_uri": "https://localhost:8080/",
          "height": 573
        },
        "id": "wjyM14MxKJJu",
        "outputId": "f9878f23-ea2c-41e3-9e65-4459da270187"
      },
      "execution_count": 13,
      "outputs": [
        {
          "output_type": "display_data",
          "data": {
            "text/plain": [
              "<Figure size 864x648 with 1 Axes>"
            ],
            "image/png": "[encoded data removed]"
          },
          "metadata": {}
        }
      ]
    },
    {
      "cell_type": "markdown",
      "source": [
        "#Exploratory Analysis\n",
        "### Activity\n",
        "####Barchart for Activity\n",
        "1. It shows ratio of Activity\n",
        "2. It shows the frequency of user for activity"
      ],
      "metadata": {
        "id": "fD97NNvLPndi"
      }
    },
    {
      "cell_type": "code",
      "source": [
        "#set chart style\n",
        "sns.set(style=\"whitegrid\")\n",
        "#create figure from plt\n",
        "plt.figure(figsize=(8,5))\n",
        "#get the size of dataset\n",
        "total = float(len(dataset))\n",
        "#create chart ax with column sex and datasource equals to dataset\n",
        "ax = sns.countplot(x=\"activity\", data=dataset)\n",
        "#calculate the percentage and put it on the top of bars with below code\n",
        "for p in ax.patches:\n",
        "    #how the percentage should be formated\n",
        "    percentage = '{:.1f}%'.format(100 * p.get_height()/total)\n",
        "    # % position in X\n",
        "    x = p.get_x() + 0.4\n",
        "    # % position in Y\n",
        "    y = p.get_height()+5\n",
        "    #put percentage on chart\n",
        "    ax.annotate(percentage, (x, y),ha='center')\n",
        "#plot the chart\n",
        "plt.show()"
      ],
      "metadata": {
        "colab": {
          "base_uri": "https://localhost:8080/",
          "height": 339
        },
        "id": "7kZmPx9JOpIs",
        "outputId": "ad029cdc-670b-477e-9d98-466b69caa7fb"
      },
      "execution_count": 14,
      "outputs": [
        {
          "output_type": "display_data",
          "data": {
            "text/plain": [
              "<Figure size 576x360 with 1 Axes>"
            ],
            "image/png": "[encoded data removed]"
          },
          "metadata": {}
        }
      ]
    },
    {
      "cell_type": "markdown",
      "source": [
        "#Exploratory Analysis\n",
        "### Activity\n",
        "####Barchart for Activity\n",
        "1. It shows the count of the Activity\n",
        "2. It shows the average of the different Activty"
      ],
      "metadata": {
        "id": "N45PZzYpQiuM"
      }
    },
    {
      "cell_type": "code",
      "source": [
        "#set chart style\n",
        "sns.set(style=\"whitegrid\")\n",
        "#create figure from plt\n",
        "plt.figure(figsize=(8,5))\n",
        "#get the size of dataset\n",
        "total = float(len(dataset))\n",
        "#create chart ax with column sex and datasource equals to dataset\n",
        "ax = sns.countplot(x=\"activity\", data=dataset)\n",
        "#calculate the percentage and put it on the top of bars with below code\n",
        "for p in ax.patches:\n",
        "    #how the percentage should be formated\n",
        "    percentage = '{:.1f}%'.format(100 * p.get_height()/total)\n",
        "    # % position in X\n",
        "    x = p.get_x() + 0.4\n",
        "    # % position in Y\n",
        "    y = p.get_height()+5\n",
        "    #put percentage on chart\n",
        "    ax.annotate(percentage, (x, y),ha='center')\n",
        "#plot the chart\n",
        "plt.show()"
      ],
      "metadata": {
        "colab": {
          "base_uri": "https://localhost:8080/",
          "height": 339
        },
        "id": "LKZG_LyMQjO1",
        "outputId": "f5f92557-7ee0-484f-8476-3d66e43eb386"
      },
      "execution_count": 15,
      "outputs": [
        {
          "output_type": "display_data",
          "data": {
            "text/plain": [
              "<Figure size 576x360 with 1 Axes>"
            ],
            "image/png": "[encoded data removed]"
          },
          "metadata": {}
        }
      ]
    },
    {
      "cell_type": "markdown",
      "source": [
        "# Exploratory Analysis\n",
        "### user\n",
        "#### Histogram and Boxplot for user\n",
        "1. It shows average activity of a user\n",
        "2. It shows the frequency of user for the activity\n",
        "\n",
        "\n"
      ],
      "metadata": {
        "id": "TzByyk9fR0Hs"
      }
    },
    {
      "cell_type": "code",
      "source": [
        "#import warning to supress in out\n",
        "import warnings\n",
        "#supress warning \n",
        "warnings.filterwarnings('ignore')\n",
        "#set plot style\n",
        "sns.set(style=\"ticks\")\n",
        "#set x equals to column of our interest which is age here\n",
        "x=dataset['user']\n",
        "#create figure f, boxplot and histogram in single chart        \n",
        "f, (ax_box, ax_hist) = plt.subplots(2, sharex=True, \n",
        "                                    gridspec_kw={\"height_ratios\": (.15, .85)})\n",
        "#set input in boxplot\n",
        "sns.boxplot(x, ax=ax_box)\n",
        "#set input in histogram\n",
        "sns.distplot(x, ax=ax_hist)\n",
        "ax_box.set(yticks=[])\n",
        "#plot the histogram\n",
        "sns.despine(ax=ax_hist)\n",
        "#plot the  boxplot \n",
        "sns.despine(ax=ax_box, left=True)"
      ],
      "metadata": {
        "colab": {
          "base_uri": "https://localhost:8080/",
          "height": 557
        },
        "id": "Fl1YqyEyUQZA",
        "outputId": "d2929133-931a-4dc2-fce4-8b1dee3856aa"
      },
      "execution_count": 16,
      "outputs": [
        {
          "output_type": "display_data",
          "data": {
            "text/plain": [
              "<Figure size 864x648 with 2 Axes>"
            ],
            "image/png": "[encoded data removed]"
          },
          "metadata": {}
        }
      ]
    },
    {
      "cell_type": "markdown",
      "source": [
        "# Exploratory Analysis\n",
        "##  Timestap\n",
        "#### In order to check for outlier boxplot for Timestamp is created. Dots on right side of graph show the outliers in Timestamp"
      ],
      "metadata": {
        "id": "_Wtac2WXSr0I"
      }
    },
    {
      "cell_type": "code",
      "source": [
        "sns.boxplot(x='timestamp',data=dataset)"
      ],
      "metadata": {
        "colab": {
          "base_uri": "https://localhost:8080/",
          "height": 574
        },
        "id": "uQbF92bLm8Qo",
        "outputId": "e0050cb7-5dc8-4a4d-d760-98c81e7a318b"
      },
      "execution_count": 17,
      "outputs": [
        {
          "output_type": "execute_result",
          "data": {
            "text/plain": [
              "<matplotlib.axes._subplots.AxesSubplot at 0x7fe9de58d7d0>"
            ]
          },
          "metadata": {},
          "execution_count": 17
        },
        {
          "output_type": "display_data",
          "data": {
            "text/plain": [
              "<Figure size 864x648 with 1 Axes>"
            ],
            "image/png": "[encoded data removed]"
          },
          "metadata": {}
        }
      ]
    },
    {
      "cell_type": "markdown",
      "source": [
        "# Exploratory Analysis\n",
        "### user VS Activity\n",
        "#### Boxplot for user VS activity\n",
        "1. It shows the relation of number of user on  of an activity\n",
        "2. It shows the range of activity values of customer with different number of user\n",
        "3. It shows any outliers if exist between the relation of user and activity"
      ],
      "metadata": {
        "id": "oj4a01oXTMf8"
      }
    },
    {
      "cell_type": "code",
      "source": [
        "ax = sns.boxplot(x=\"activity\", y=\"user\", data=dataset)"
      ],
      "metadata": {
        "colab": {
          "base_uri": "https://localhost:8080/",
          "height": 557
        },
        "id": "YVvCQbTqqvPl",
        "outputId": "751d65d7-5a88-4082-a021-7e067b5b3036"
      },
      "execution_count": 18,
      "outputs": [
        {
          "output_type": "display_data",
          "data": {
            "text/plain": [
              "<Figure size 864x648 with 1 Axes>"
            ],
            "image/png": "[encoded data removed]"
          },
          "metadata": {}
        }
      ]
    },
    {
      "cell_type": "markdown",
      "source": [
        "# Exploratory Analysis\n",
        "## user boxplot\n",
        "#### In order to check for outlier in userboxplot for user is created. There doesn't seem to have any outliers"
      ],
      "metadata": {
        "id": "acB5K5P2TyWQ"
      }
    },
    {
      "cell_type": "code",
      "source": [
        "sns.boxplot(x='user',data=dataset)"
      ],
      "metadata": {
        "colab": {
          "base_uri": "https://localhost:8080/",
          "height": 574
        },
        "id": "xBVSeQhZVxs8",
        "outputId": "5de25020-b456-4284-b7ca-73d8315878b4"
      },
      "execution_count": 19,
      "outputs": [
        {
          "output_type": "execute_result",
          "data": {
            "text/plain": [
              "<matplotlib.axes._subplots.AxesSubplot at 0x7fe9de40df10>"
            ]
          },
          "metadata": {},
          "execution_count": 19
        },
        {
          "output_type": "display_data",
          "data": {
            "text/plain": [
              "<Figure size 864x648 with 1 Axes>"
            ],
            "image/png": "[encoded data removed]"
          },
          "metadata": {}
        }
      ]
    },
    {
      "cell_type": "markdown",
      "source": [
        "# Exploratory Analysis\n",
        "## Timestamp boxplot\n",
        "#### In order to check for outlier in timestamp boxplot for timestamp is created. There doesn't seem to have any outliers"
      ],
      "metadata": {
        "id": "bjP5OfwWT8Ye"
      }
    },
    {
      "cell_type": "code",
      "source": [
        "sns.boxplot(x='timestamp',data=dataset)"
      ],
      "metadata": {
        "colab": {
          "base_uri": "https://localhost:8080/",
          "height": 574
        },
        "id": "SLbDMrzaWgBm",
        "outputId": "2bfe4ae0-5e63-47b2-dae8-92813bb9b590"
      },
      "execution_count": 20,
      "outputs": [
        {
          "output_type": "execute_result",
          "data": {
            "text/plain": [
              "<matplotlib.axes._subplots.AxesSubplot at 0x7fe9de37d2d0>"
            ]
          },
          "metadata": {},
          "execution_count": 20
        },
        {
          "output_type": "display_data",
          "data": {
            "text/plain": [
              "<Figure size 864x648 with 1 Axes>"
            ],
            "image/png": "[encoded data removed]"
          },
          "metadata": {}
        }
      ]
    },
    {
      "cell_type": "markdown",
      "source": [
        "# Exploratory Analysis\n",
        "### User VS Activity\n",
        "#### Boxplot for User VS Activity\n",
        "1. It shows the relation of number of user on activity \n",
        "2. It shows the range of user values of customer with different number of activities\n",
        "3. It shows any outliers if exist between the relation of user and activity"
      ],
      "metadata": {
        "id": "4IMba3UpUXjD"
      }
    },
    {
      "cell_type": "code",
      "source": [
        "#code performs the T-Test\n",
        "#import independent t test\n",
        "from scipy.stats import ttest_ind\n",
        "#create category of male \n",
        "cat1 = dataset[dataset['activity']=='Walking']\n",
        "#create category of female\n",
        "cat2 = dataset[dataset['timestamp']==1.345610e+13]\n",
        "#apply independent t test\n",
        "print(ttest_ind(cat1['user'], cat2['user']))\n",
        "#plot bmi vs sex\n",
        "ax = sns.boxplot(x=\"user\", y=\"activity\", orient=\"h\", data=dataset)"
      ],
      "metadata": {
        "colab": {
          "base_uri": "https://localhost:8080/",
          "height": 574
        },
        "id": "XhQPQFmGWss1",
        "outputId": "999ba13e-81d9-436c-a8e9-49b82ad13d25"
      },
      "execution_count": 21,
      "outputs": [
        {
          "output_type": "stream",
          "name": "stdout",
          "text": [
            "Ttest_indResult(statistic=-2.4301336480658695, pvalue=0.015093674195232857)\n"
          ]
        },
        {
          "output_type": "display_data",
          "data": {
            "text/plain": [
              "<Figure size 864x648 with 1 Axes>"
            ],
            "image/png": "[encoded data removed]"
          },
          "metadata": {}
        }
      ]
    },
    {
      "cell_type": "code",
      "source": [
        "import pandas as pd"
      ],
      "metadata": {
        "id": "ZCm6vwupotEC"
      },
      "execution_count": 22,
      "outputs": []
    },
    {
      "cell_type": "markdown",
      "source": [
        "Here we have imported dataset with read_csv function"
      ],
      "metadata": {
        "id": "aPwA2y1lg8HA"
      }
    },
    {
      "cell_type": "code",
      "source": [
        "df=pd.read_csv(\"/content/time_series_data_human_activities.csv\")"
      ],
      "metadata": {
        "id": "lXKRve2Xoxe2"
      },
      "execution_count": 23,
      "outputs": []
    },
    {
      "cell_type": "code",
      "source": [
        "df"
      ],
      "metadata": {
        "colab": {
          "base_uri": "https://localhost:8080/",
          "height": 424
        },
        "id": "nRgdlyQMo90V",
        "outputId": "a517cdab-b408-4825-a91d-83117e10d0ee"
      },
      "execution_count": 24,
      "outputs": [
        {
          "output_type": "execute_result",
          "data": {
            "text/plain": [
              "         user activity     timestamp  x-axis  y-axis    z-axis\n",
              "0           1  Walking  4.991920e+12    0.69   10.80 -2.030000\n",
              "1           1  Walking  4.991970e+12    6.85    7.44 -0.500000\n",
              "2           1  Walking  4.992020e+12    0.93    5.63 -0.500000\n",
              "3           1  Walking  4.992070e+12   -2.11    5.01 -0.690000\n",
              "4           1  Walking  4.992120e+12   -4.59    4.29 -1.950000\n",
              "...       ...      ...           ...     ...     ...       ...\n",
              "1048570    36  Jogging  1.345600e+13    2.72   10.80  2.301839\n",
              "1048571    36  Jogging  1.345610e+13   -3.45   -6.70 -6.020194\n",
              "1048572    36  Jogging  1.345610e+13    2.15   -3.98 -0.762740\n",
              "1048573    36  Jogging  1.345620e+13    2.07    8.96  4.821603\n",
              "1048574    36  Jogging  1.345620e+13   -3.26    6.89 -8.853226\n",
              "\n",
              "[1048575 rows x 6 columns]"
            ],
            "text/html": [
              "\n",
              "  <div id=\"df-3d798791-a32e-4d71-896f-70efc64c863f\">\n",
              "    <div class=\"colab-df-container\">\n",
              "      <div>\n",
              "<style scoped>\n",
              "    .dataframe tbody tr th:only-of-type {\n",
              "        vertical-align: middle;\n",
              "    }\n",
              "\n",
              "    .dataframe tbody tr th {\n",
              "        vertical-align: top;\n",
              "    }\n",
              "\n",
              "    .dataframe thead th {\n",
              "        text-align: right;\n",
              "    }\n",
              "</style>\n",
              "<table border=\"1\" class=\"dataframe\">\n",
              "  <thead>\n",
              "    <tr style=\"text-align: right;\">\n",
              "      <th></th>\n",
              "      <th>user</th>\n",
              "      <th>activity</th>\n",
              "      <th>timestamp</th>\n",
              "      <th>x-axis</th>\n",
              "      <th>y-axis</th>\n",
              "      <th>z-axis</th>\n",
              "    </tr>\n",
              "  </thead>\n",
              "  <tbody>\n",
              "    <tr>\n",
              "      <th>0</th>\n",
              "      <td>1</td>\n",
              "      <td>Walking</td>\n",
              "      <td>4.991920e+12</td>\n",
              "      <td>0.69</td>\n",
              "      <td>10.80</td>\n",
              "      <td>-2.030000</td>\n",
              "    </tr>\n",
              "    <tr>\n",
              "      <th>1</th>\n",
              "      <td>1</td>\n",
              "      <td>Walking</td>\n",
              "      <td>4.991970e+12</td>\n",
              "      <td>6.85</td>\n",
              "      <td>7.44</td>\n",
              "      <td>-0.500000</td>\n",
              "    </tr>\n",
              "    <tr>\n",
              "      <th>2</th>\n",
              "      <td>1</td>\n",
              "      <td>Walking</td>\n",
              "      <td>4.992020e+12</td>\n",
              "      <td>0.93</td>\n",
              "      <td>5.63</td>\n",
              "      <td>-0.500000</td>\n",
              "    </tr>\n",
              "    <tr>\n",
              "      <th>3</th>\n",
              "      <td>1</td>\n",
              "      <td>Walking</td>\n",
              "      <td>4.992070e+12</td>\n",
              "      <td>-2.11</td>\n",
              "      <td>5.01</td>\n",
              "      <td>-0.690000</td>\n",
              "    </tr>\n",
              "    <tr>\n",
              "      <th>4</th>\n",
              "      <td>1</td>\n",
              "      <td>Walking</td>\n",
              "      <td>4.992120e+12</td>\n",
              "      <td>-4.59</td>\n",
              "      <td>4.29</td>\n",
              "      <td>-1.950000</td>\n",
              "    </tr>\n",
              "    <tr>\n",
              "      <th>...</th>\n",
              "      <td>...</td>\n",
              "      <td>...</td>\n",
              "      <td>...</td>\n",
              "      <td>...</td>\n",
              "      <td>...</td>\n",
              "      <td>...</td>\n",
              "    </tr>\n",
              "    <tr>\n",
              "      <th>1048570</th>\n",
              "      <td>36</td>\n",
              "      <td>Jogging</td>\n",
              "      <td>1.345600e+13</td>\n",
              "      <td>2.72</td>\n",
              "      <td>10.80</td>\n",
              "      <td>2.301839</td>\n",
              "    </tr>\n",
              "    <tr>\n",
              "      <th>1048571</th>\n",
              "      <td>36</td>\n",
              "      <td>Jogging</td>\n",
              "      <td>1.345610e+13</td>\n",
              "      <td>-3.45</td>\n",
              "      <td>-6.70</td>\n",
              "      <td>-6.020194</td>\n",
              "    </tr>\n",
              "    <tr>\n",
              "      <th>1048572</th>\n",
              "      <td>36</td>\n",
              "      <td>Jogging</td>\n",
              "      <td>1.345610e+13</td>\n",
              "      <td>2.15</td>\n",
              "      <td>-3.98</td>\n",
              "      <td>-0.762740</td>\n",
              "    </tr>\n",
              "    <tr>\n",
              "      <th>1048573</th>\n",
              "      <td>36</td>\n",
              "      <td>Jogging</td>\n",
              "      <td>1.345620e+13</td>\n",
              "      <td>2.07</td>\n",
              "      <td>8.96</td>\n",
              "      <td>4.821603</td>\n",
              "    </tr>\n",
              "    <tr>\n",
              "      <th>1048574</th>\n",
              "      <td>36</td>\n",
              "      <td>Jogging</td>\n",
              "      <td>1.345620e+13</td>\n",
              "      <td>-3.26</td>\n",
              "      <td>6.89</td>\n",
              "      <td>-8.853226</td>\n",
              "    </tr>\n",
              "  </tbody>\n",
              "</table>\n",
              "<p>1048575 rows × 6 columns</p>\n",
              "</div>\n",
              "      <button class=\"colab-df-convert\" onclick=\"convertToInteractive('df-3d798791-a32e-4d71-896f-70efc64c863f')\"\n",
              "              title=\"Convert this dataframe to an interactive table.\"\n",
              "              style=\"display:none;\">\n",
              "        \n",
              "  <svg xmlns=\"http://www.w3.org/2000/svg\" height=\"24px\"viewBox=\"0 0 24 24\"\n",
              "       width=\"24px\">\n",
              "    <path d=\"M0 0h24v24H0V0z\" fill=\"none\"/>\n",
              "    <path d=\"M18.56 5.44l.94 2.06.94-2.06 2.06-.94-2.06-.94-.94-2.06-.94 2.06-2.06.94zm-11 1L8.5 8.5l.94-2.06 2.06-.94-2.06-.94L8.5 2.5l-.94 2.06-2.06.94zm10 10l.94 2.06.94-2.06 2.06-.94-2.06-.94-.94-2.06-.94 2.06-2.06.94z\"/><path d=\"M17.41 7.96l-1.37-1.37c-.4-.4-.92-.59-1.43-.59-.52 0-1.04.2-1.43.59L10.3 9.45l-7.72 7.72c-.78.78-.78 2.05 0 2.83L4 21.41c.39.39.9.59 1.41.59.51 0 1.02-.2 1.41-.59l7.78-7.78 2.81-2.81c.8-.78.8-2.07 0-2.86zM5.41 20L4 18.59l7.72-7.72 1.47 1.35L5.41 20z\"/>\n",
              "  </svg>\n",
              "      </button>\n",
              "      \n",
              "  <style>\n",
              "    .colab-df-container {\n",
              "      display:flex;\n",
              "      flex-wrap:wrap;\n",
              "      gap: 12px;\n",
              "    }\n",
              "\n",
              "    .colab-df-convert {\n",
              "      background-color: #E8F0FE;\n",
              "      border: none;\n",
              "      border-radius: 50%;\n",
              "      cursor: pointer;\n",
              "      display: none;\n",
              "      fill: #1967D2;\n",
              "      height: 32px;\n",
              "      padding: 0 0 0 0;\n",
              "      width: 32px;\n",
              "    }\n",
              "\n",
              "    .colab-df-convert:hover {\n",
              "      background-color: #E2EBFA;\n",
              "      box-shadow: 0px 1px 2px rgba(60, 64, 67, 0.3), 0px 1px 3px 1px rgba(60, 64, 67, 0.15);\n",
              "      fill: #174EA6;\n",
              "    }\n",
              "\n",
              "    [theme=dark] .colab-df-convert {\n",
              "      background-color: #3B4455;\n",
              "      fill: #D2E3FC;\n",
              "    }\n",
              "\n",
              "    [theme=dark] .colab-df-convert:hover {\n",
              "      background-color: #434B5C;\n",
              "      box-shadow: 0px 1px 3px 1px rgba(0, 0, 0, 0.15);\n",
              "      filter: drop-shadow(0px 1px 2px rgba(0, 0, 0, 0.3));\n",
              "      fill: #FFFFFF;\n",
              "    }\n",
              "  </style>\n",
              "\n",
              "      <script>\n",
              "        const buttonEl =\n",
              "          document.querySelector('#df-3d798791-a32e-4d71-896f-70efc64c863f button.colab-df-convert');\n",
              "        buttonEl.style.display =\n",
              "          google.colab.kernel.accessAllowed ? 'block' : 'none';\n",
              "\n",
              "        async function convertToInteractive(key) {\n",
              "          const element = document.querySelector('#df-3d798791-a32e-4d71-896f-70efc64c863f');\n",
              "          const dataTable =\n",
              "            await google.colab.kernel.invokeFunction('convertToInteractive',\n",
              "                                                     [key], {});\n",
              "          if (!dataTable) return;\n",
              "\n",
              "          const docLinkHtml = 'Like what you see? Visit the ' +\n",
              "            '<a target=\"_blank\" href=https://colab.research.google.com/notebooks/data_table.ipynb>data table notebook</a>'\n",
              "            + ' to learn more about interactive tables.';\n",
              "          element.innerHTML = '';\n",
              "          dataTable['output_type'] = 'display_data';\n",
              "          await google.colab.output.renderOutput(dataTable, element);\n",
              "          const docLink = document.createElement('div');\n",
              "          docLink.innerHTML = docLinkHtml;\n",
              "          element.appendChild(docLink);\n",
              "        }\n",
              "      </script>\n",
              "    </div>\n",
              "  </div>\n",
              "  "
            ]
          },
          "metadata": {},
          "execution_count": 24
        }
      ]
    },
    {
      "cell_type": "markdown",
      "source": [
        "As we have label in form of catgorized data so we need to covert it, for that we are using LabelEncoder"
      ],
      "metadata": {
        "id": "7lUnGjmJhPpl"
      }
    },
    {
      "cell_type": "code",
      "source": [
        "from sklearn.preprocessing import LabelEncoder"
      ],
      "metadata": {
        "id": "z24Dn_XMbM8a"
      },
      "execution_count": 25,
      "outputs": []
    },
    {
      "cell_type": "code",
      "source": [
        "lb=LabelEncoder()"
      ],
      "metadata": {
        "id": "LoFVJdZcjFg7"
      },
      "execution_count": 26,
      "outputs": []
    },
    {
      "cell_type": "code",
      "source": [
        "df['activity']=lb.fit_transform(df['activity'])"
      ],
      "metadata": {
        "id": "feyhy4zujJpq"
      },
      "execution_count": 27,
      "outputs": []
    },
    {
      "cell_type": "code",
      "source": [
        "df.head(5)"
      ],
      "metadata": {
        "colab": {
          "base_uri": "https://localhost:8080/",
          "height": 206
        },
        "id": "RdYzp2bIohio",
        "outputId": "6b2205fa-0fbe-447f-ccf9-21351fb9d038"
      },
      "execution_count": 28,
      "outputs": [
        {
          "output_type": "execute_result",
          "data": {
            "text/plain": [
              "   user  activity     timestamp  x-axis  y-axis  z-axis\n",
              "0     1         5  4.991920e+12    0.69   10.80   -2.03\n",
              "1     1         5  4.991970e+12    6.85    7.44   -0.50\n",
              "2     1         5  4.992020e+12    0.93    5.63   -0.50\n",
              "3     1         5  4.992070e+12   -2.11    5.01   -0.69\n",
              "4     1         5  4.992120e+12   -4.59    4.29   -1.95"
            ],
            "text/html": [
              "\n",
              "  <div id=\"df-249d1d72-e611-4bb6-be47-5374a33cb268\">\n",
              "    <div class=\"colab-df-container\">\n",
              "      <div>\n",
              "<style scoped>\n",
              "    .dataframe tbody tr th:only-of-type {\n",
              "        vertical-align: middle;\n",
              "    }\n",
              "\n",
              "    .dataframe tbody tr th {\n",
              "        vertical-align: top;\n",
              "    }\n",
              "\n",
              "    .dataframe thead th {\n",
              "        text-align: right;\n",
              "    }\n",
              "</style>\n",
              "<table border=\"1\" class=\"dataframe\">\n",
              "  <thead>\n",
              "    <tr style=\"text-align: right;\">\n",
              "      <th></th>\n",
              "      <th>user</th>\n",
              "      <th>activity</th>\n",
              "      <th>timestamp</th>\n",
              "      <th>x-axis</th>\n",
              "      <th>y-axis</th>\n",
              "      <th>z-axis</th>\n",
              "    </tr>\n",
              "  </thead>\n",
              "  <tbody>\n",
              "    <tr>\n",
              "      <th>0</th>\n",
              "      <td>1</td>\n",
              "      <td>5</td>\n",
              "      <td>4.991920e+12</td>\n",
              "      <td>0.69</td>\n",
              "      <td>10.80</td>\n",
              "      <td>-2.03</td>\n",
              "    </tr>\n",
              "    <tr>\n",
              "      <th>1</th>\n",
              "      <td>1</td>\n",
              "      <td>5</td>\n",
              "      <td>4.991970e+12</td>\n",
              "      <td>6.85</td>\n",
              "      <td>7.44</td>\n",
              "      <td>-0.50</td>\n",
              "    </tr>\n",
              "    <tr>\n",
              "      <th>2</th>\n",
              "      <td>1</td>\n",
              "      <td>5</td>\n",
              "      <td>4.992020e+12</td>\n",
              "      <td>0.93</td>\n",
              "      <td>5.63</td>\n",
              "      <td>-0.50</td>\n",
              "    </tr>\n",
              "    <tr>\n",
              "      <th>3</th>\n",
              "      <td>1</td>\n",
              "      <td>5</td>\n",
              "      <td>4.992070e+12</td>\n",
              "      <td>-2.11</td>\n",
              "      <td>5.01</td>\n",
              "      <td>-0.69</td>\n",
              "    </tr>\n",
              "    <tr>\n",
              "      <th>4</th>\n",
              "      <td>1</td>\n",
              "      <td>5</td>\n",
              "      <td>4.992120e+12</td>\n",
              "      <td>-4.59</td>\n",
              "      <td>4.29</td>\n",
              "      <td>-1.95</td>\n",
              "    </tr>\n",
              "  </tbody>\n",
              "</table>\n",
              "</div>\n",
              "      <button class=\"colab-df-convert\" onclick=\"convertToInteractive('df-249d1d72-e611-4bb6-be47-5374a33cb268')\"\n",
              "              title=\"Convert this dataframe to an interactive table.\"\n",
              "              style=\"display:none;\">\n",
              "        \n",
              "  <svg xmlns=\"http://www.w3.org/2000/svg\" height=\"24px\"viewBox=\"0 0 24 24\"\n",
              "       width=\"24px\">\n",
              "    <path d=\"M0 0h24v24H0V0z\" fill=\"none\"/>\n",
              "    <path d=\"M18.56 5.44l.94 2.06.94-2.06 2.06-.94-2.06-.94-.94-2.06-.94 2.06-2.06.94zm-11 1L8.5 8.5l.94-2.06 2.06-.94-2.06-.94L8.5 2.5l-.94 2.06-2.06.94zm10 10l.94 2.06.94-2.06 2.06-.94-2.06-.94-.94-2.06-.94 2.06-2.06.94z\"/><path d=\"M17.41 7.96l-1.37-1.37c-.4-.4-.92-.59-1.43-.59-.52 0-1.04.2-1.43.59L10.3 9.45l-7.72 7.72c-.78.78-.78 2.05 0 2.83L4 21.41c.39.39.9.59 1.41.59.51 0 1.02-.2 1.41-.59l7.78-7.78 2.81-2.81c.8-.78.8-2.07 0-2.86zM5.41 20L4 18.59l7.72-7.72 1.47 1.35L5.41 20z\"/>\n",
              "  </svg>\n",
              "      </button>\n",
              "      \n",
              "  <style>\n",
              "    .colab-df-container {\n",
              "      display:flex;\n",
              "      flex-wrap:wrap;\n",
              "      gap: 12px;\n",
              "    }\n",
              "\n",
              "    .colab-df-convert {\n",
              "      background-color: #E8F0FE;\n",
              "      border: none;\n",
              "      border-radius: 50%;\n",
              "      cursor: pointer;\n",
              "      display: none;\n",
              "      fill: #1967D2;\n",
              "      height: 32px;\n",
              "      padding: 0 0 0 0;\n",
              "      width: 32px;\n",
              "    }\n",
              "\n",
              "    .colab-df-convert:hover {\n",
              "      background-color: #E2EBFA;\n",
              "      box-shadow: 0px 1px 2px rgba(60, 64, 67, 0.3), 0px 1px 3px 1px rgba(60, 64, 67, 0.15);\n",
              "      fill: #174EA6;\n",
              "    }\n",
              "\n",
              "    [theme=dark] .colab-df-convert {\n",
              "      background-color: #3B4455;\n",
              "      fill: #D2E3FC;\n",
              "    }\n",
              "\n",
              "    [theme=dark] .colab-df-convert:hover {\n",
              "      background-color: #434B5C;\n",
              "      box-shadow: 0px 1px 3px 1px rgba(0, 0, 0, 0.15);\n",
              "      filter: drop-shadow(0px 1px 2px rgba(0, 0, 0, 0.3));\n",
              "      fill: #FFFFFF;\n",
              "    }\n",
              "  </style>\n",
              "\n",
              "      <script>\n",
              "        const buttonEl =\n",
              "          document.querySelector('#df-249d1d72-e611-4bb6-be47-5374a33cb268 button.colab-df-convert');\n",
              "        buttonEl.style.display =\n",
              "          google.colab.kernel.accessAllowed ? 'block' : 'none';\n",
              "\n",
              "        async function convertToInteractive(key) {\n",
              "          const element = document.querySelector('#df-249d1d72-e611-4bb6-be47-5374a33cb268');\n",
              "          const dataTable =\n",
              "            await google.colab.kernel.invokeFunction('convertToInteractive',\n",
              "                                                     [key], {});\n",
              "          if (!dataTable) return;\n",
              "\n",
              "          const docLinkHtml = 'Like what you see? Visit the ' +\n",
              "            '<a target=\"_blank\" href=https://colab.research.google.com/notebooks/data_table.ipynb>data table notebook</a>'\n",
              "            + ' to learn more about interactive tables.';\n",
              "          element.innerHTML = '';\n",
              "          dataTable['output_type'] = 'display_data';\n",
              "          await google.colab.output.renderOutput(dataTable, element);\n",
              "          const docLink = document.createElement('div');\n",
              "          docLink.innerHTML = docLinkHtml;\n",
              "          element.appendChild(docLink);\n",
              "        }\n",
              "      </script>\n",
              "    </div>\n",
              "  </div>\n",
              "  "
            ]
          },
          "metadata": {},
          "execution_count": 28
        }
      ]
    },
    {
      "cell_type": "markdown",
      "source": [
        "we have fit all the features of our dataset in X-axis"
      ],
      "metadata": {
        "id": "QajGagI4houR"
      }
    },
    {
      "cell_type": "code",
      "source": [
        "x = df[['activity','timestamp','x-axis','y-axis','z-axis']]"
      ],
      "metadata": {
        "id": "hd-IyDRoqTpT"
      },
      "execution_count": 29,
      "outputs": []
    },
    {
      "cell_type": "markdown",
      "source": [
        "and here we have fit attirition as in Y-axis"
      ],
      "metadata": {
        "id": "aQmDfFMLhyrW"
      }
    },
    {
      "cell_type": "code",
      "source": [
        "y = df['activity']"
      ],
      "metadata": {
        "id": "8eMhZfbkqbsA"
      },
      "execution_count": 30,
      "outputs": []
    },
    {
      "cell_type": "markdown",
      "source": [
        "Now we have data in perfect shape to be feed to the algorithm now we will split data into test and train set so that we can evaluate the performance of algorithm for that we are using train_test_split and we have taken test size as 0.2 which means 20% dataset will be used and random_state is 0 so that every time we run the program results should be same otherwise different 20% chunk of dataset will be taken and result will be different every time we run the program"
      ],
      "metadata": {
        "id": "osHKUuiYhe-T"
      }
    },
    {
      "cell_type": "code",
      "source": [
        "from sklearn.model_selection import train_test_split\n",
        "x_train,x_test,y_train,y_test = train_test_split(x,y,test_size = 0.2,random_state = 0)"
      ],
      "metadata": {
        "id": "hWgaQdoGqjKE"
      },
      "execution_count": 31,
      "outputs": []
    },
    {
      "cell_type": "markdown",
      "source": [
        "#Text Classification with LogisticRegression\n",
        "Here we have dataset which contains user data to show that will they do activity or not"
      ],
      "metadata": {
        "id": "fZgaKqqwiDNb"
      }
    },
    {
      "cell_type": "code",
      "source": [
        "from sklearn.linear_model import LogisticRegression\n",
        "lr = LogisticRegression()\n",
        "lr.fit(x_train,y_train)\n",
        "lr.score(x_test,y_test)\n",
        "pred = lr.predict(x_test)"
      ],
      "metadata": {
        "id": "DLhKwvaB1K85"
      },
      "execution_count": 32,
      "outputs": []
    },
    {
      "cell_type": "markdown",
      "source": [
        "###Here LogisticRegression show the different scores for each one \n",
        "1. Accuracy_score\n",
        "2. Recall_score\n",
        "3. Precision_score\n",
        "4. F1_score\n",
        "5. Confusion_matrix"
      ],
      "metadata": {
        "id": "LYklUxYKjist"
      }
    },
    {
      "cell_type": "code",
      "source": [
        "from sklearn.metrics import accuracy_score,recall_score,precision_score,f1_score,confusion_matrix\n",
        "print(\"Confusion Matrix\")\n",
        "print(confusion_matrix(y_test,pred))\n",
        "print(accuracy_score(y_test,pred))\n",
        "print(recall_score(y_test,pred,average='macro'))\n",
        "print(precision_score(y_test,pred,average='macro'))\n",
        "print(f1_score(y_test,pred,average='macro'))\n"
      ],
      "metadata": {
        "colab": {
          "base_uri": "https://localhost:8080/"
        },
        "id": "qryhAO7QgimX",
        "outputId": "d3069e85-6b1f-4364-ec8c-fea3a9cf06cf"
      },
      "execution_count": 33,
      "outputs": [
        {
          "output_type": "stream",
          "name": "stdout",
          "text": [
            "Confusion Matrix\n",
            "[[    0     0     0     0     0 19118]\n",
            " [    0     0     0     0     0 62569]\n",
            " [    0     0     0     0     0 11533]\n",
            " [    0     0     0     0     0  9210]\n",
            " [    0     0     0     0     0 23631]\n",
            " [    0     0     0     0     0 83654]]\n",
            "0.39889373673795386\n",
            "0.16666666666666666\n",
            "0.06648228945632564\n",
            "0.0950498064439892\n"
          ]
        }
      ]
    },
    {
      "cell_type": "markdown",
      "source": [
        "#Text Classification with Decision Tree\n",
        "###Here we have dataset which contains the features of all users that do activity"
      ],
      "metadata": {
        "id": "O_-CKJyiesp_"
      }
    },
    {
      "cell_type": "code",
      "source": [
        "from sklearn.tree import DecisionTreeClassifier\n",
        "classifier=DecisionTreeClassifier()\n",
        "classifier.fit(x_train,y_train)\n",
        "pred=classifier.predict(x_test)"
      ],
      "metadata": {
        "id": "wTwE6339q0tH"
      },
      "execution_count": 34,
      "outputs": []
    },
    {
      "cell_type": "markdown",
      "source": [
        "#Text Classification with Decision Tree \n",
        "it shows different scores of\n",
        "1. Confusion_matrix\n",
        "2. Accuracy_score\n",
        "3. Precision_score\n",
        "4. Recall_score\n",
        "5. F1_score\n"
      ],
      "metadata": {
        "id": "WTHJSeKKkaCk"
      }
    },
    {
      "cell_type": "code",
      "source": [
        "from sklearn.metrics import accuracy_score,precision_score,recall_score\n",
        "from sklearn.metrics import confusion_matrix\n",
        "cm=confusion_matrix(y_test,pred)\n",
        "print(\"confusion matrix\")\n",
        "print(cm)\n",
        "print('Accuracy score: {}'.format(accuracy_score(y_test, pred)))\n",
        "print('Precision score: {}'.format(precision_score(y_test, pred, average='macro')))\n",
        "print('Recall score: {}'.format(recall_score(y_test, pred, average='macro')))\n",
        "print('F1_score: {}'.format(f1_score(y_test,pred, average='macro')))"
      ],
      "metadata": {
        "colab": {
          "base_uri": "https://localhost:8080/"
        },
        "id": "87UMxtgpf1ig",
        "outputId": "a0a82fac-4dea-4176-d5d5-90269e84a9fd"
      },
      "execution_count": 35,
      "outputs": [
        {
          "output_type": "stream",
          "name": "stdout",
          "text": [
            "confusion matrix\n",
            "[[19118     0     0     0     0     0]\n",
            " [    0 62569     0     0     0     0]\n",
            " [    0     0 11533     0     0     0]\n",
            " [    0     0     0  9210     0     0]\n",
            " [    0     0     0     0 23631     0]\n",
            " [    0     0     0     0     0 83654]]\n",
            "Accuracy score: 1.0\n",
            "Precision score: 1.0\n",
            "Recall score: 1.0\n",
            "F1_score: 1.0\n"
          ]
        }
      ]
    },
    {
      "cell_type": "markdown",
      "source": [
        "#Text Classification with KNeighbors Classifier\n",
        "###Here we have dataset which contains the features of all user that do activities"
      ],
      "metadata": {
        "id": "K0cn_Y4OkRVs"
      }
    },
    {
      "cell_type": "code",
      "source": [
        "from sklearn.neighbors import KNeighborsClassifier\n",
        "classifier=KNeighborsClassifier()\n",
        "classifier.fit(x_train,y_train)\n",
        "pred=classifier.predict(x_test)"
      ],
      "metadata": {
        "id": "6AJdc4PyvAhc"
      },
      "execution_count": 36,
      "outputs": []
    },
    {
      "cell_type": "markdown",
      "source": [
        "#KNeighbors Classifier \n",
        "it shows different scores of\n",
        "1. Confusion_matrix\n",
        "2. Accuracy_score\n",
        "3. Precision_score\n",
        "4. Recall_score\n",
        "5. F1_score\n"
      ],
      "metadata": {
        "id": "_Skew3cunagP"
      }
    },
    {
      "cell_type": "code",
      "source": [
        "from sklearn.metrics import accuracy_score,precision_score,recall_score\n",
        "from sklearn.metrics import confusion_matrix\n",
        "cm=confusion_matrix(y_test,pred)\n",
        "print(\"confusion matrix\")\n",
        "print(cm)\n",
        "print('Accuracy score: {}'.format(accuracy_score(y_test, pred)))\n",
        "print('Precision score: {}'.format(precision_score(y_test, pred,average='macro')))\n",
        "print('Recall score: {}'.format(recall_score(y_test, pred,average='macro')))\n",
        "print('F1_score: {}'.format(f1_score(y_test,pred,average='macro')))"
      ],
      "metadata": {
        "colab": {
          "base_uri": "https://localhost:8080/"
        },
        "id": "Xyy-20bpgSKw",
        "outputId": "3d723bf0-7897-485f-836d-7920039bcafc"
      },
      "execution_count": 37,
      "outputs": [
        {
          "output_type": "stream",
          "name": "stdout",
          "text": [
            "confusion matrix\n",
            "[[12803  1649   192   106  1495  2873]\n",
            " [ 2698 43508   557  1153  2738 11915]\n",
            " [  474  1381  7136    17   377  2148]\n",
            " [  256  1006    13  6207   197  1531]\n",
            " [ 2099  2083   255   258 14560  4376]\n",
            " [ 2976 12489   894   824  4036 62435]]\n",
            "Accuracy score: 0.6992775910163793\n",
            "Precision score: 0.6948471051464717\n",
            "Recall score: 0.6700364645154885\n",
            "F1_score: 0.68025124225362\n"
          ]
        }
      ]
    },
    {
      "cell_type": "markdown",
      "source": [
        "#Text Classification with GaussianNB\n",
        "###Here we have dataset which contains the features of all users that do activities"
      ],
      "metadata": {
        "id": "Xi-W564Rn3WR"
      }
    },
    {
      "cell_type": "code",
      "source": [
        "from sklearn.naive_bayes import GaussianNB\n",
        "classifier=GaussianNB()\n",
        "classifier.fit(x_train,y_train)\n",
        "pred=classifier.predict(x_test)"
      ],
      "metadata": {
        "id": "CyUiO0xpGy1H"
      },
      "execution_count": 38,
      "outputs": []
    },
    {
      "cell_type": "markdown",
      "source": [
        "#GaussianNB Classifier\n",
        "it shows different scores of\n",
        "1. Confusion_matrix\n",
        "2. Accuracy_score\n",
        "3. Precision_score\n",
        "4. Recall_score\n",
        "5. F1_score\n"
      ],
      "metadata": {
        "id": "a-iMqnkZn_dr"
      }
    },
    {
      "cell_type": "code",
      "source": [
        "from sklearn.metrics import accuracy_score,precision_score,recall_score\n",
        "from sklearn.metrics import confusion_matrix\n",
        "cm=confusion_matrix(y_test,pred)\n",
        "print(\"confusion matrix\")\n",
        "print(cm)\n",
        "print('Accuracy score: {}'.format(accuracy_score(y_test, pred)))\n",
        "print('Precision score: {}'.format(precision_score(y_test, pred,average='macro')))\n",
        "print('Recall score: {}'.format(recall_score(y_test, pred,average='macro')))\n",
        "print('F1_score: {}'.format(f1_score(y_test,pred,average='macro')))"
      ],
      "metadata": {
        "colab": {
          "base_uri": "https://localhost:8080/"
        },
        "id": "nLswhdlpa8um",
        "outputId": "aee069e3-216f-44fd-d78a-711e708e8fbe"
      },
      "execution_count": 39,
      "outputs": [
        {
          "output_type": "stream",
          "name": "stdout",
          "text": [
            "confusion matrix\n",
            "[[    0     0     0   469     0 18649]\n",
            " [    0     0     0  1861     0 60708]\n",
            " [    0     0     0   527     0 11006]\n",
            " [    0     0     0   485     0  8725]\n",
            " [    0     0     0   703     0 22928]\n",
            " [    0     0     0  2183     0 81471]]\n",
            "Accuracy score: 0.39079703407004746\n",
            "Precision score: 0.07970809799798194\n",
            "Recall score: 0.1710940946361095\n",
            "F1_score: 0.10504922411785866\n"
          ]
        }
      ]
    },
    {
      "cell_type": "markdown",
      "source": [
        "#Text Clssification with RandomForestClassfier\n",
        "###Here we have dataset which contains the features of all user that do activities\n",
        "\n"
      ],
      "metadata": {
        "id": "tNDY2FGaoPNH"
      }
    },
    {
      "cell_type": "code",
      "source": [
        "from sklearn.ensemble import RandomForestClassifier\n",
        "classifier=RandomForestClassifier(n_estimators=10)\n",
        "classifier.fit(x_train,y_train)\n",
        "pred=classifier.predict(x_test)"
      ],
      "metadata": {
        "id": "eApU8i-KbGyj"
      },
      "execution_count": 40,
      "outputs": []
    },
    {
      "cell_type": "markdown",
      "source": [
        "it shows different scores of\n",
        "1. Confusion_matrix\n",
        "2. Accuracy_score\n",
        "3. Precision_score\n",
        "4. Recall_score\n",
        "5. F1_score"
      ],
      "metadata": {
        "id": "vDu2w-_Zog7D"
      }
    },
    {
      "cell_type": "code",
      "source": [
        "from sklearn.metrics import accuracy_score,precision_score,recall_score\n",
        "from sklearn.metrics import confusion_matrix\n",
        "cm=confusion_matrix(y_test,pred)\n",
        "print(\"confusion matrix\")\n",
        "print(cm)\n",
        "print('Accuracy score: {}'.format(accuracy_score(y_test, pred)))\n",
        "print('Precision score: {}'.format(precision_score(y_test, pred,average='macro')))\n",
        "print('Recall score: {}'.format(recall_score(y_test, pred,average='macro')))\n",
        "print('F1_score: {}'.format(f1_score(y_test,pred,average='macro')))"
      ],
      "metadata": {
        "colab": {
          "base_uri": "https://localhost:8080/"
        },
        "id": "V1yv7DY7bUqq",
        "outputId": "36c43d4f-6a82-477a-f880-dbfb78aa9bcd"
      },
      "execution_count": 41,
      "outputs": [
        {
          "output_type": "stream",
          "name": "stdout",
          "text": [
            "confusion matrix\n",
            "[[19118     0     0     0     0     0]\n",
            " [    0 62569     0     0     0     0]\n",
            " [    0     0 11533     0     0     0]\n",
            " [    0     0     1  9209     0     0]\n",
            " [    0     0     0     0 23631     0]\n",
            " [    0     0     0     0     0 83654]]\n",
            "Accuracy score: 0.9999952316238705\n",
            "Precision score: 0.9999855499682099\n",
            "Recall score: 0.9999819037278321\n",
            "F1_score: 0.999983726043563\n"
          ]
        }
      ]
    },
    {
      "cell_type": "code",
      "source": [
        "from sklearn.tree import DecisionTreeClassifier\n",
        "model=DecisionTreeClassifier()"
      ],
      "metadata": {
        "id": "Q4r6c_4ouMCR"
      },
      "execution_count": 42,
      "outputs": []
    },
    {
      "cell_type": "code",
      "source": [
        "model.fit(x_train,y_train)"
      ],
      "metadata": {
        "colab": {
          "base_uri": "https://localhost:8080/"
        },
        "id": "TN_z29aSuanu",
        "outputId": "e381528c-2989-438e-fe56-d647422ea42d"
      },
      "execution_count": 43,
      "outputs": [
        {
          "output_type": "execute_result",
          "data": {
            "text/plain": [
              "DecisionTreeClassifier()"
            ]
          },
          "metadata": {},
          "execution_count": 43
        }
      ]
    },
    {
      "cell_type": "code",
      "source": [
        "model.predict(x_test)"
      ],
      "metadata": {
        "colab": {
          "base_uri": "https://localhost:8080/"
        },
        "id": "0_0u-xBMui32",
        "outputId": "6f285721-6905-4440-bbfd-da704ca93d34"
      },
      "execution_count": 44,
      "outputs": [
        {
          "output_type": "execute_result",
          "data": {
            "text/plain": [
              "array([3, 5, 1, ..., 5, 5, 4])"
            ]
          },
          "metadata": {},
          "execution_count": 44
        }
      ]
    },
    {
      "cell_type": "code",
      "source": [
        "model.predict_proba(x_test)"
      ],
      "metadata": {
        "colab": {
          "base_uri": "https://localhost:8080/"
        },
        "id": "sdggWm1Cu805",
        "outputId": "8e02b51c-13b2-4faa-af32-8314d882cd23"
      },
      "execution_count": 45,
      "outputs": [
        {
          "output_type": "execute_result",
          "data": {
            "text/plain": [
              "array([[0., 0., 0., 1., 0., 0.],\n",
              "       [0., 0., 0., 0., 0., 1.],\n",
              "       [0., 1., 0., 0., 0., 0.],\n",
              "       ...,\n",
              "       [0., 0., 0., 0., 0., 1.],\n",
              "       [0., 0., 0., 0., 0., 1.],\n",
              "       [0., 0., 0., 0., 1., 0.]])"
            ]
          },
          "metadata": {},
          "execution_count": 45
        }
      ]
    },
    {
      "cell_type": "code",
      "source": [
        "model.score(x_test,y_test)"
      ],
      "metadata": {
        "colab": {
          "base_uri": "https://localhost:8080/"
        },
        "id": "xkT6wsJoupiF",
        "outputId": "8afa4856-593e-4d2e-f84f-09c05e40ea86"
      },
      "execution_count": 46,
      "outputs": [
        {
          "output_type": "execute_result",
          "data": {
            "text/plain": [
              "1.0"
            ]
          },
          "metadata": {},
          "execution_count": 46
        }
      ]
    },
    {
      "cell_type": "markdown",
      "source": [
        "Now we have data in perfect shape to be feed to the algorithm now we will split data into test and train set so that we can evaluate the performance of algorithm for that we are using train_test_split and we have taken test size as 0.3 which means 30% dataset will be used and random_state is 0 so that every time we run the program results should be same otherwise different 30% chunk of dataset will be taken and result will be different every time we run the program"
      ],
      "metadata": {
        "id": "aoRgLtEg7wuz"
      }
    },
    {
      "cell_type": "code",
      "source": [
        "from sklearn.model_selection import train_test_split\n",
        "x_train,x_test,y_train,y_test = train_test_split(x,y,test_size = 0.3,random_state = 0)"
      ],
      "metadata": {
        "id": "6NalGSdmvYoo"
      },
      "execution_count": 65,
      "outputs": []
    },
    {
      "cell_type": "markdown",
      "source": [
        "# Text Classification with LogisticRegression\n",
        "Here we have dataset which contains user data to show that will they do activity or not"
      ],
      "metadata": {
        "id": "-6haIVOK8ETP"
      }
    },
    {
      "cell_type": "code",
      "source": [
        "from sklearn.linear_model import LogisticRegression\n",
        "lr = LogisticRegression()\n",
        "lr.fit(x_train,y_train)\n",
        "lr.score(x_test,y_test)\n",
        "pred = lr.predict(x_test)"
      ],
      "metadata": {
        "id": "H-mapNFp8HiH"
      },
      "execution_count": 66,
      "outputs": []
    },
    {
      "cell_type": "markdown",
      "source": [
        "Here LogisticRegression show the different scores for each one\n",
        "\n",
        "      1.   Accuracy_score\n",
        "      2.   Recall_score\n",
        "      3.   Precision_score\n",
        "      4.   F1_score\n",
        "      5.   Confusion_matrix\n",
        "\n",
        "\n",
        "\n",
        "\n",
        "\n",
        "\n"
      ],
      "metadata": {
        "id": "NQiXu5WH8NdP"
      }
    },
    {
      "cell_type": "code",
      "source": [
        "from sklearn.metrics import accuracy_score,recall_score,precision_score,f1_score,confusion_matrix\n",
        "print(\"Confusion Matrix\")\n",
        "print(confusion_matrix(y_test,pred))\n",
        "print(accuracy_score(y_test,pred))\n",
        "print(recall_score(y_test,pred,average='macro'))\n",
        "print(precision_score(y_test,pred,average='macro'))\n",
        "print(f1_score(y_test,pred,average='macro'))"
      ],
      "metadata": {
        "colab": {
          "base_uri": "https://localhost:8080/"
        },
        "id": "lFQ0ic059YR2",
        "outputId": "05ce72a6-1969-4ad7-a29d-9a770a09b329"
      },
      "execution_count": 67,
      "outputs": [
        {
          "output_type": "stream",
          "name": "stdout",
          "text": [
            "Confusion Matrix\n",
            "[[     0      0      0      0      0  28650]\n",
            " [     0      0      0      0      0  93845]\n",
            " [     0      0      0      0      0  17389]\n",
            " [     0      0      0      0      0  13904]\n",
            " [     0      0      0      0      0  35341]\n",
            " [     0      0      0      0      0 125444]]\n",
            "0.39877548295626136\n",
            "0.16666666666666666\n",
            "0.06646258049271023\n",
            "0.09502966173276639\n"
          ]
        }
      ]
    },
    {
      "cell_type": "markdown",
      "source": [
        "## Text Classification with Decision Tree\n",
        "Here we have dataset which contains the features of all users that do activity"
      ],
      "metadata": {
        "id": "f1Hs97faAArn"
      }
    },
    {
      "cell_type": "code",
      "source": [
        "from sklearn.tree import DecisionTreeClassifier\n",
        "classifier=DecisionTreeClassifier()\n",
        "classifier.fit(x_train,y_train)\n",
        "pred=classifier.predict(x_test)"
      ],
      "metadata": {
        "id": "UHVWOxBWADH7"
      },
      "execution_count": 68,
      "outputs": []
    },
    {
      "cell_type": "markdown",
      "source": [
        "# Text Classification with Decision Tree\n",
        "it shows different scores of\n",
        "*   Confusion_matrix\n",
        "*   Accuracy_score\n",
        "*   Precision_score\n",
        "*   Recall_score\n",
        "*   F1_score\n",
        "\n",
        "\n",
        "\n",
        "\n",
        "\n",
        "\n",
        "\n",
        "\n"
      ],
      "metadata": {
        "id": "P8w7jYYg9kc-"
      }
    },
    {
      "cell_type": "code",
      "source": [
        "from sklearn.metrics import accuracy_score,precision_score,recall_score\n",
        "from sklearn.metrics import confusion_matrix\n",
        "cm=confusion_matrix(y_test,pred)\n",
        "print(\"confusion matrix\")\n",
        "print(cm)\n",
        "print('Accuracy score: {}'.format(accuracy_score(y_test, pred)))\n",
        "print('Precision score: {}'.format(precision_score(y_test, pred, average='macro')))\n",
        "print('Recall score: {}'.format(recall_score(y_test, pred, average='macro')))\n",
        "print('F1_score: {}'.format(f1_score(y_test,pred, average='macro')))"
      ],
      "metadata": {
        "colab": {
          "base_uri": "https://localhost:8080/"
        },
        "id": "pV9ur8VG-RSL",
        "outputId": "08080896-4beb-48c0-a4a7-4c624eeed1a0"
      },
      "execution_count": 69,
      "outputs": [
        {
          "output_type": "stream",
          "name": "stdout",
          "text": [
            "confusion matrix\n",
            "[[ 28650      0      0      0      0      0]\n",
            " [     0  93845      0      0      0      0]\n",
            " [     0      0  17389      0      0      0]\n",
            " [     0      0      0  13904      0      0]\n",
            " [     0      0      0      0  35341      0]\n",
            " [     0      0      0      0      0 125444]]\n",
            "Accuracy score: 1.0\n",
            "Precision score: 1.0\n",
            "Recall score: 1.0\n",
            "F1_score: 1.0\n"
          ]
        }
      ]
    },
    {
      "cell_type": "markdown",
      "source": [
        "# Text Classification with KNeighbors Classifier\n",
        "Here we have dataset which contains the features of all user that do activities"
      ],
      "metadata": {
        "id": "9Yhffta1-jYj"
      }
    },
    {
      "cell_type": "code",
      "source": [
        "from sklearn.neighbors import KNeighborsClassifier\n",
        "classifier=KNeighborsClassifier()\n",
        "classifier.fit(x_train,y_train)\n",
        "pred=classifier.predict(x_test)"
      ],
      "metadata": {
        "id": "9ebP8wNv9ITE"
      },
      "execution_count": 70,
      "outputs": []
    },
    {
      "cell_type": "markdown",
      "source": [
        "# KNeighbors Classifier \n",
        "it shows different scores of\n",
        "1. Confusion_matrix\n",
        "2. Accuracy_score\n",
        "3. Precision_score\n",
        "4. Recall_score\n",
        "5. F1_score"
      ],
      "metadata": {
        "id": "crSbQWp2AdUy"
      }
    },
    {
      "cell_type": "code",
      "source": [
        "from sklearn.metrics import accuracy_score,precision_score,recall_score\n",
        "from sklearn.metrics import confusion_matrix\n",
        "cm=confusion_matrix(y_test,pred)\n",
        "print(\"confusion matrix\")\n",
        "print(cm)\n",
        "print('Accuracy score: {}'.format(accuracy_score(y_test, pred)))\n",
        "print('Precision score: {}'.format(precision_score(y_test, pred,average='macro')))\n",
        "print('Recall score: {}'.format(recall_score(y_test, pred,average='macro')))\n",
        "print('F1_score: {}'.format(f1_score(y_test,pred,average='macro')))"
      ],
      "metadata": {
        "colab": {
          "base_uri": "https://localhost:8080/"
        },
        "id": "oIEXVY31AfUQ",
        "outputId": "e369b31e-3cda-4abc-c6f4-779cdb8da50c"
      },
      "execution_count": 71,
      "outputs": [
        {
          "output_type": "stream",
          "name": "stdout",
          "text": [
            "confusion matrix\n",
            "[[19320  2444   288   157  2142  4299]\n",
            " [ 4037 65330   850  1801  3958 17869]\n",
            " [  713  2139 10648    41   553  3295]\n",
            " [  373  1629    52  9192   317  2341]\n",
            " [ 3057  3119   409   415 22031  6310]\n",
            " [ 4439 18864  1618  1318  5847 93358]]\n",
            "Accuracy score: 0.6989760723266142\n",
            "Precision score: 0.6912046477879715\n",
            "Recall score: 0.6685905734315716\n",
            "F1_score: 0.6779550900676693\n"
          ]
        }
      ]
    },
    {
      "cell_type": "markdown",
      "source": [
        "## Text Classification with GaussianNB\n",
        "Here we have dataset which contains the features of all users that do activities"
      ],
      "metadata": {
        "id": "cPx_BfAFA5V8"
      }
    },
    {
      "cell_type": "code",
      "source": [
        "from sklearn.naive_bayes import GaussianNB\n",
        "classifier=GaussianNB()\n",
        "classifier.fit(x_train,y_train)\n",
        "pred=classifier.predict(x_test)"
      ],
      "metadata": {
        "id": "PUK310L-A7kw"
      },
      "execution_count": 72,
      "outputs": []
    },
    {
      "cell_type": "markdown",
      "source": [
        "#GaussianNB Classifier\n",
        "it shows different scores of\n",
        "1. Confusion_matrix\n",
        "2. Accuracy_score\n",
        "3. Precision_score\n",
        "4. Recall_score\n",
        "5. F1_score"
      ],
      "metadata": {
        "id": "Aoq0fOg4BIx3"
      }
    },
    {
      "cell_type": "code",
      "source": [
        "from sklearn.metrics import accuracy_score,precision_score,recall_score\n",
        "from sklearn.metrics import confusion_matrix\n",
        "cm=confusion_matrix(y_test,pred)\n",
        "print(\"confusion matrix\")\n",
        "print(cm)\n",
        "print('Accuracy score: {}'.format(accuracy_score(y_test, pred)))\n",
        "print('Precision score: {}'.format(precision_score(y_test, pred,average='macro')))\n",
        "print('Recall score: {}'.format(recall_score(y_test, pred,average='macro')))\n",
        "print('F1_score: {}'.format(f1_score(y_test,pred,average='macro')))"
      ],
      "metadata": {
        "colab": {
          "base_uri": "https://localhost:8080/"
        },
        "id": "5-cmyiTOBa45",
        "outputId": "b0a50573-fe13-4886-bcf6-999e6d08f5ec"
      },
      "execution_count": 73,
      "outputs": [
        {
          "output_type": "stream",
          "name": "stdout",
          "text": [
            "confusion matrix\n",
            "[[     0      0      0    679      0  27971]\n",
            " [     0      0      0   2763      0  91082]\n",
            " [     0      0      0    767      0  16622]\n",
            " [     0      0      0    716      0  13188]\n",
            " [     0      0      0   1037      0  34304]\n",
            " [     0      0      0   3299      0 122145]]\n",
            "Accuracy score: 0.3905643523124998\n",
            "Precision score: 0.0795632711494113\n",
            "Recall score: 0.17086623082742589\n",
            "F1_score: 0.10482276688509905\n"
          ]
        }
      ]
    },
    {
      "cell_type": "markdown",
      "source": [
        "#Text Clssification with RandomForestClassfier\n",
        "###Here we have dataset which contains the features of all user that do activities\n"
      ],
      "metadata": {
        "id": "hEM0YgScBxh3"
      }
    },
    {
      "cell_type": "code",
      "source": [
        "from sklearn.ensemble import RandomForestClassifier\n",
        "classifier=RandomForestClassifier(n_estimators=10)\n",
        "classifier.fit(x_train,y_train)\n",
        "pred=classifier.predict(x_test)"
      ],
      "metadata": {
        "id": "wf2JEu7iBy_F"
      },
      "execution_count": 74,
      "outputs": []
    },
    {
      "cell_type": "markdown",
      "source": [
        "it shows different scores of\n",
        "1. Confusion_matrix\n",
        "2. Accuracy_score\n",
        "3. Precision_score\n",
        "4. Recall_score\n",
        "5. F1_score"
      ],
      "metadata": {
        "id": "Ki0qFlBYCihR"
      }
    },
    {
      "cell_type": "code",
      "source": [
        "from sklearn.metrics import accuracy_score,precision_score,recall_score\n",
        "from sklearn.metrics import confusion_matrix\n",
        "cm=confusion_matrix(y_test,pred)\n",
        "print(\"confusion matrix\")\n",
        "print(cm)\n",
        "print('Accuracy score: {}'.format(accuracy_score(y_test, pred)))\n",
        "print('Precision score: {}'.format(precision_score(y_test, pred,average='macro')))\n",
        "print('Recall score: {}'.format(recall_score(y_test, pred,average='macro')))\n",
        "print('F1_score: {}'.format(f1_score(y_test,pred,average='macro')))"
      ],
      "metadata": {
        "colab": {
          "base_uri": "https://localhost:8080/"
        },
        "id": "UK-tufivCu85",
        "outputId": "a5957922-8e25-4b6c-dc8b-e8b9d5c845b4"
      },
      "execution_count": 75,
      "outputs": [
        {
          "output_type": "stream",
          "name": "stdout",
          "text": [
            "confusion matrix\n",
            "[[ 28650      0      0      0      0      0]\n",
            " [     0  93845      0      0      0      0]\n",
            " [     0      0  17389      0      0      0]\n",
            " [     0      0      1  13903      0      0]\n",
            " [     0      0      0      0  35341      0]\n",
            " [     0      0      0      0      0 125444]]\n",
            "Accuracy score: 0.9999968210876331\n",
            "Precision score: 0.9999904159478628\n",
            "Recall score: 0.9999880130418105\n",
            "F1_score: 0.9999892141415131\n"
          ]
        }
      ]
    },
    {
      "cell_type": "code",
      "source": [
        "from sklearn.tree import DecisionTreeClassifier\n",
        "model=DecisionTreeClassifier()"
      ],
      "metadata": {
        "id": "L4KODfGIC753"
      },
      "execution_count": 76,
      "outputs": []
    },
    {
      "cell_type": "code",
      "source": [
        "model.fit(x_train,y_train)"
      ],
      "metadata": {
        "colab": {
          "base_uri": "https://localhost:8080/"
        },
        "id": "dXXHTXBgDhwn",
        "outputId": "97d7e61b-efbc-4d56-8c4d-c312be9c7b55"
      },
      "execution_count": 77,
      "outputs": [
        {
          "output_type": "execute_result",
          "data": {
            "text/plain": [
              "DecisionTreeClassifier()"
            ]
          },
          "metadata": {},
          "execution_count": 77
        }
      ]
    },
    {
      "cell_type": "code",
      "source": [
        "model.predict(x_test)"
      ],
      "metadata": {
        "colab": {
          "base_uri": "https://localhost:8080/"
        },
        "id": "2FUWqgRbD9e2",
        "outputId": "5b2b37a6-3060-4901-aee0-6d290d94e017"
      },
      "execution_count": 78,
      "outputs": [
        {
          "output_type": "execute_result",
          "data": {
            "text/plain": [
              "array([3, 5, 1, ..., 5, 1, 1])"
            ]
          },
          "metadata": {},
          "execution_count": 78
        }
      ]
    },
    {
      "cell_type": "code",
      "source": [
        "model.predict_proba(x_test)"
      ],
      "metadata": {
        "colab": {
          "base_uri": "https://localhost:8080/"
        },
        "id": "8AhTs_U4EKMu",
        "outputId": "6166a42d-8983-4a5d-9c11-441b4abc6522"
      },
      "execution_count": 79,
      "outputs": [
        {
          "output_type": "execute_result",
          "data": {
            "text/plain": [
              "array([[0., 0., 0., 1., 0., 0.],\n",
              "       [0., 0., 0., 0., 0., 1.],\n",
              "       [0., 1., 0., 0., 0., 0.],\n",
              "       ...,\n",
              "       [0., 0., 0., 0., 0., 1.],\n",
              "       [0., 1., 0., 0., 0., 0.],\n",
              "       [0., 1., 0., 0., 0., 0.]])"
            ]
          },
          "metadata": {},
          "execution_count": 79
        }
      ]
    },
    {
      "cell_type": "code",
      "source": [
        "model.score(x_test,y_test)"
      ],
      "metadata": {
        "colab": {
          "base_uri": "https://localhost:8080/"
        },
        "id": "zdnUzTPAESzY",
        "outputId": "89686042-debf-4faf-ce1b-0b75d6599964"
      },
      "execution_count": 80,
      "outputs": [
        {
          "output_type": "execute_result",
          "data": {
            "text/plain": [
              "1.0"
            ]
          },
          "metadata": {},
          "execution_count": 80
        }
      ]
    },
    {
      "cell_type": "markdown",
      "source": [
        "Now we have data in perfect shape to be feed to the algorithm now we will split data into test and train set so that we can evaluate the performance of algorithm for that we are using train_test_split and we have taken test size as 0.4 which means 40% dataset will be used and random_state is 0 so that every time we run the program results should be same otherwise different 40% chunk of dataset will be taken and result will be different every time we run the program"
      ],
      "metadata": {
        "id": "gjK7LT0qGHIc"
      }
    },
    {
      "cell_type": "code",
      "source": [
        "from sklearn.model_selection import train_test_split\n",
        "x_train,x_test,y_train,y_test = train_test_split(x,y,test_size = 0.4,random_state = 0)"
      ],
      "metadata": {
        "id": "kq1C5rzYGSOS"
      },
      "execution_count": 81,
      "outputs": []
    },
    {
      "cell_type": "markdown",
      "source": [
        "# Text Classification with LogisticRegression\n",
        "Here we have dataset which contains user data to show that will they do activity or not"
      ],
      "metadata": {
        "id": "uwSGIu9fHCRP"
      }
    },
    {
      "cell_type": "code",
      "source": [
        "from sklearn.linear_model import LogisticRegression\n",
        "lr = LogisticRegression()\n",
        "lr.fit(x_train,y_train)\n",
        "lr.score(x_test,y_test)\n",
        "pred = lr.predict(x_test)"
      ],
      "metadata": {
        "id": "btCdFI0uHDmZ"
      },
      "execution_count": 82,
      "outputs": []
    },
    {
      "cell_type": "markdown",
      "source": [
        "Here LogisticRegression show the different scores for each one\n",
        "\n",
        "      1.   Accuracy_score\n",
        "      2.   Recall_score\n",
        "      3.   Precision_score\n",
        "      4.   F1_score\n",
        "      5.   Confusion_matrix\n"
      ],
      "metadata": {
        "id": "1YR1zXCJHn_A"
      }
    },
    {
      "cell_type": "code",
      "source": [
        "from sklearn.metrics import accuracy_score,recall_score,precision_score,f1_score,confusion_matrix\n",
        "print(\"Confusion Matrix\")\n",
        "print(confusion_matrix(y_test,pred))\n",
        "print(accuracy_score(y_test,pred))\n",
        "print(recall_score(y_test,pred,average='macro'))\n",
        "print(precision_score(y_test,pred,average='macro'))\n",
        "print(f1_score(y_test,pred,average='macro'))"
      ],
      "metadata": {
        "colab": {
          "base_uri": "https://localhost:8080/"
        },
        "id": "AxkCuo3tGb-d",
        "outputId": "216b042e-7935-454c-9b8c-1b7ae3a0de03"
      },
      "execution_count": 83,
      "outputs": [
        {
          "output_type": "stream",
          "name": "stdout",
          "text": [
            "Confusion Matrix\n",
            "[[     0      0      0      0      0  38400]\n",
            " [     0      0      0      0      0 124934]\n",
            " [     0      0      0      0      0  23185]\n",
            " [     0      0      0      0      0  18572]\n",
            " [     0      0      0      0      0  47134]\n",
            " [     0      0      0      0      0 167205]]\n",
            "0.39864816536728415\n",
            "0.16666666666666666\n",
            "0.06644136089454736\n",
            "0.0950079691801546\n"
          ]
        }
      ]
    },
    {
      "cell_type": "markdown",
      "source": [
        "## Text Classification with Decision Tree\n",
        "Here we have dataset which contains the features of all users that do activity"
      ],
      "metadata": {
        "id": "7ta3y9guIGRb"
      }
    },
    {
      "cell_type": "code",
      "source": [
        "from sklearn.tree import DecisionTreeClassifier\n",
        "classifier=DecisionTreeClassifier()\n",
        "classifier.fit(x_train,y_train)\n",
        "pred=classifier.predict(x_test)"
      ],
      "metadata": {
        "id": "U_hYqtROIDey"
      },
      "execution_count": 84,
      "outputs": []
    },
    {
      "cell_type": "markdown",
      "source": [
        "# Text Classification with Decision Tree\n",
        "it shows different scores of\n",
        "*   Confusion_matrix\n",
        "*   Accuracy_score\n",
        "*   Precision_score\n",
        "*   Recall_score\n",
        "*   F1_score"
      ],
      "metadata": {
        "id": "dO8tc87QIdXm"
      }
    },
    {
      "cell_type": "code",
      "source": [
        "from sklearn.metrics import accuracy_score,precision_score,recall_score\n",
        "from sklearn.metrics import confusion_matrix\n",
        "cm=confusion_matrix(y_test,pred)\n",
        "print(\"confusion matrix\")\n",
        "print(cm)\n",
        "print('Accuracy score: {}'.format(accuracy_score(y_test, pred)))\n",
        "print('Precision score: {}'.format(precision_score(y_test, pred, average='macro')))\n",
        "print('Recall score: {}'.format(recall_score(y_test, pred, average='macro')))\n",
        "print('F1_score: {}'.format(f1_score(y_test,pred, average='macro')))"
      ],
      "metadata": {
        "colab": {
          "base_uri": "https://localhost:8080/"
        },
        "id": "Sv_3RtYsI1zI",
        "outputId": "343b852b-156b-4fe6-9d79-f60f551a87ad"
      },
      "execution_count": 85,
      "outputs": [
        {
          "output_type": "stream",
          "name": "stdout",
          "text": [
            "confusion matrix\n",
            "[[ 38400      0      0      0      0      0]\n",
            " [     0 124934      0      0      0      0]\n",
            " [     0      0  23185      0      0      0]\n",
            " [     0      0      0  18572      0      0]\n",
            " [     0      0      0      0  47134      0]\n",
            " [     0      0      0      0      0 167205]]\n",
            "Accuracy score: 1.0\n",
            "Precision score: 1.0\n",
            "Recall score: 1.0\n",
            "F1_score: 1.0\n"
          ]
        }
      ]
    },
    {
      "cell_type": "markdown",
      "source": [
        "#Text Classification with KNeighbors Classifier\n",
        "###Here we have dataset which contains the features of all user that do activities"
      ],
      "metadata": {
        "id": "RT6-vXShJW0o"
      }
    },
    {
      "cell_type": "code",
      "source": [
        "from sklearn.neighbors import KNeighborsClassifier\n",
        "classifier=KNeighborsClassifier()\n",
        "classifier.fit(x_train,y_train)\n",
        "pred=classifier.predict(x_test)"
      ],
      "metadata": {
        "id": "1eiSORXJJYV3"
      },
      "execution_count": 86,
      "outputs": []
    },
    {
      "cell_type": "markdown",
      "source": [
        "#KNeighbors Classifier \n",
        "it shows different scores of\n",
        "1. Confusion_matrix\n",
        "2. Accuracy_score\n",
        "3. Precision_score\n",
        "4. Recall_score\n",
        "5. F1_score"
      ],
      "metadata": {
        "id": "i-9iwLZ1Jtxh"
      }
    },
    {
      "cell_type": "code",
      "source": [
        "from sklearn.metrics import accuracy_score,precision_score,recall_score\n",
        "from sklearn.metrics import confusion_matrix\n",
        "cm=confusion_matrix(y_test,pred)\n",
        "print(\"confusion matrix\")\n",
        "print(cm)\n",
        "print('Accuracy score: {}'.format(accuracy_score(y_test, pred)))\n",
        "print('Precision score: {}'.format(precision_score(y_test, pred,average='macro')))\n",
        "print('Recall score: {}'.format(recall_score(y_test, pred,average='macro')))\n",
        "print('F1_score: {}'.format(f1_score(y_test,pred,average='macro')))"
      ],
      "metadata": {
        "colab": {
          "base_uri": "https://localhost:8080/"
        },
        "id": "rfFQjiUeJ8zo",
        "outputId": "737d673d-fbb1-4547-ec74-16f9ca08f13f"
      },
      "execution_count": 87,
      "outputs": [
        {
          "output_type": "stream",
          "name": "stdout",
          "text": [
            "confusion matrix\n",
            "[[ 26128   3396    422    229   2720   5505]\n",
            " [  5158  87330   1240   2517   5225  23464]\n",
            " [   976   2875  14011     55    739   4529]\n",
            " [   470   2441    101  12004    471   3085]\n",
            " [  3930   4236    534    528  29751   8155]\n",
            " [  5872  25082   2444   1880   7542 124385]]\n",
            "Accuracy score: 0.7000190735045181\n",
            "Precision score: 0.6885776047533622\n",
            "Recall score: 0.6675326345343843\n",
            "F1_score: 0.6763436512430072\n"
          ]
        }
      ]
    },
    {
      "cell_type": "markdown",
      "source": [
        "## Text Classification with GaussianNB\n",
        "Here we have dataset which contains the features of all users that do activities"
      ],
      "metadata": {
        "id": "v_P3_QiqKULw"
      }
    },
    {
      "cell_type": "code",
      "source": [
        "from sklearn.naive_bayes import GaussianNB\n",
        "classifier=GaussianNB()\n",
        "classifier.fit(x_train,y_train)\n",
        "pred=classifier.predict(x_test)"
      ],
      "metadata": {
        "id": "80Oe_bHgKjFG"
      },
      "execution_count": 88,
      "outputs": []
    },
    {
      "cell_type": "markdown",
      "source": [
        "#GaussianNB Classifier\n",
        "it shows different scores of\n",
        "1. Confusion_matrix\n",
        "2. Accuracy_score\n",
        "3. Precision_score\n",
        "4. Recall_score\n",
        "5. F1_score"
      ],
      "metadata": {
        "id": "oWv1Of04LGRY"
      }
    },
    {
      "cell_type": "code",
      "source": [
        "from sklearn.metrics import accuracy_score,precision_score,recall_score\n",
        "from sklearn.metrics import confusion_matrix\n",
        "cm=confusion_matrix(y_test,pred)\n",
        "print(\"confusion matrix\")\n",
        "print(cm)\n",
        "print('Accuracy score: {}'.format(accuracy_score(y_test, pred)))\n",
        "print('Precision score: {}'.format(precision_score(y_test, pred,average='macro')))\n",
        "print('Recall score: {}'.format(recall_score(y_test, pred,average='macro')))\n",
        "print('F1_score: {}'.format(f1_score(y_test,pred,average='macro')))"
      ],
      "metadata": {
        "colab": {
          "base_uri": "https://localhost:8080/"
        },
        "id": "rxgMLbKgLHEk",
        "outputId": "d6571883-95b2-4cff-b365-80426ae99b43"
      },
      "execution_count": 89,
      "outputs": [
        {
          "output_type": "stream",
          "name": "stdout",
          "text": [
            "confusion matrix\n",
            "[[     0      0      0    913      0  37487]\n",
            " [     0      0      0   3731      0 121203]\n",
            " [     0      0      0   1026      0  22159]\n",
            " [     0      0      0    951      0  17621]\n",
            " [     0      0      0   1413      0  45721]\n",
            " [     0      0      0   4379      0 162826]]\n",
            "Accuracy score: 0.3904751686813056\n",
            "Precision score: 0.07944340009069567\n",
            "Recall score: 0.17083611808723212\n",
            "F1_score: 0.10475053023878\n"
          ]
        }
      ]
    },
    {
      "cell_type": "markdown",
      "source": [
        "#Text Clssification with RandomForestClassfier\n",
        "###Here we have dataset which contains the features of all user that do activities"
      ],
      "metadata": {
        "id": "0WDzBxgCLW5x"
      }
    },
    {
      "cell_type": "code",
      "source": [
        "from sklearn.ensemble import RandomForestClassifier\n",
        "classifier=RandomForestClassifier(n_estimators=10)\n",
        "classifier.fit(x_train,y_train)\n",
        "pred=classifier.predict(x_test)"
      ],
      "metadata": {
        "id": "2kAY8tPZIamT"
      },
      "execution_count": 90,
      "outputs": []
    },
    {
      "cell_type": "markdown",
      "source": [
        "it shows different scores of\n",
        "1. Confusion_matrix\n",
        "2. Accuracy_score\n",
        "3. Precision_score\n",
        "4. Recall_score\n",
        "5. F1_score"
      ],
      "metadata": {
        "id": "4coRr6dyLvom"
      }
    },
    {
      "cell_type": "code",
      "source": [
        "from sklearn.metrics import accuracy_score,precision_score,recall_score\n",
        "from sklearn.metrics import confusion_matrix\n",
        "cm=confusion_matrix(y_test,pred)\n",
        "print(\"confusion matrix\")\n",
        "print(cm)\n",
        "print('Accuracy score: {}'.format(accuracy_score(y_test, pred)))\n",
        "print('Precision score: {}'.format(precision_score(y_test, pred,average='macro')))\n",
        "print('Recall score: {}'.format(recall_score(y_test, pred,average='macro')))\n",
        "print('F1_score: {}'.format(f1_score(y_test,pred,average='macro')))"
      ],
      "metadata": {
        "colab": {
          "base_uri": "https://localhost:8080/"
        },
        "id": "1gTskfg4L4aK",
        "outputId": "fb7a368e-f8e7-4e69-864f-ee125c614f9b"
      },
      "execution_count": 91,
      "outputs": [
        {
          "output_type": "stream",
          "name": "stdout",
          "text": [
            "confusion matrix\n",
            "[[ 38400      0      0      0      0      0]\n",
            " [     0 124934      0      0      0      0]\n",
            " [     0      1  23184      0      0      0]\n",
            " [     0      0      1  18571      0      0]\n",
            " [     0      0      0      0  47134      0]\n",
            " [     0      0      0      0      0 167205]]\n",
            "Accuracy score: 0.9999952316238705\n",
            "Precision score: 0.9999914774171534\n",
            "Recall score: 0.9999838373613321\n",
            "F1_score: 0.9999876572657689\n"
          ]
        }
      ]
    },
    {
      "cell_type": "code",
      "source": [
        "from sklearn.tree import DecisionTreeClassifier\n",
        "model=DecisionTreeClassifier()"
      ],
      "metadata": {
        "id": "AbT7JjNVMBkn"
      },
      "execution_count": 92,
      "outputs": []
    },
    {
      "cell_type": "code",
      "source": [
        "model.fit(x_train,y_train)"
      ],
      "metadata": {
        "colab": {
          "base_uri": "https://localhost:8080/"
        },
        "id": "wmGEWp_BMm6N",
        "outputId": "b58122b5-74d1-4309-8ad7-ebeb162e9142"
      },
      "execution_count": 93,
      "outputs": [
        {
          "output_type": "execute_result",
          "data": {
            "text/plain": [
              "DecisionTreeClassifier()"
            ]
          },
          "metadata": {},
          "execution_count": 93
        }
      ]
    },
    {
      "cell_type": "code",
      "source": [
        "model.predict(x_test)"
      ],
      "metadata": {
        "colab": {
          "base_uri": "https://localhost:8080/"
        },
        "id": "4iWQsw3nMv-l",
        "outputId": "1becebbf-cdde-4272-b819-5a34b52c6560"
      },
      "execution_count": 94,
      "outputs": [
        {
          "output_type": "execute_result",
          "data": {
            "text/plain": [
              "array([3, 5, 1, ..., 1, 5, 5])"
            ]
          },
          "metadata": {},
          "execution_count": 94
        }
      ]
    },
    {
      "cell_type": "code",
      "source": [
        "model.predict_proba(x_test)"
      ],
      "metadata": {
        "colab": {
          "base_uri": "https://localhost:8080/"
        },
        "id": "Joepd9u_M45t",
        "outputId": "b5bffc45-1664-4723-fd9c-4d39e2153ac8"
      },
      "execution_count": 95,
      "outputs": [
        {
          "output_type": "execute_result",
          "data": {
            "text/plain": [
              "array([[0., 0., 0., 1., 0., 0.],\n",
              "       [0., 0., 0., 0., 0., 1.],\n",
              "       [0., 1., 0., 0., 0., 0.],\n",
              "       ...,\n",
              "       [0., 1., 0., 0., 0., 0.],\n",
              "       [0., 0., 0., 0., 0., 1.],\n",
              "       [0., 0., 0., 0., 0., 1.]])"
            ]
          },
          "metadata": {},
          "execution_count": 95
        }
      ]
    },
    {
      "cell_type": "code",
      "source": [
        "model.score(x_test,y_test)"
      ],
      "metadata": {
        "colab": {
          "base_uri": "https://localhost:8080/"
        },
        "id": "fjSPSEM7NDCs",
        "outputId": "24ddecc2-598d-4d81-dc7b-30e2b153cca6"
      },
      "execution_count": 96,
      "outputs": [
        {
          "output_type": "execute_result",
          "data": {
            "text/plain": [
              "1.0"
            ]
          },
          "metadata": {},
          "execution_count": 96
        }
      ]
    },
    {
      "cell_type": "markdown",
      "source": [
        "Now we have data in perfect shape to be feed to the algorithm now we will split data into test and train set so that we can evaluate the performance of algorithm for that we are using train_test_split and we have taken test size as 0.5 which means 50% dataset will be used and random_state is 0 so that every time we run the program results should be same otherwise different 50% chunk of dataset will be taken and result will be different every time we run the program"
      ],
      "metadata": {
        "id": "krHFmUHeN393"
      }
    },
    {
      "cell_type": "code",
      "source": [
        "from sklearn.model_selection import train_test_split\n",
        "x_train,x_test,y_train,y_test = train_test_split(x,y,test_size = 0.5,random_state = 0)"
      ],
      "metadata": {
        "id": "hAIHgLagN9V5"
      },
      "execution_count": 100,
      "outputs": []
    },
    {
      "cell_type": "markdown",
      "source": [
        "# Text Classification with LogisticRegression\n",
        "Here we have dataset which contains user data to show that will they do activity or not"
      ],
      "metadata": {
        "id": "3g0GjPA0OqYN"
      }
    },
    {
      "cell_type": "code",
      "source": [
        "from sklearn.linear_model import LogisticRegression\n",
        "lr = LogisticRegression()\n",
        "lr.fit(x_train,y_train)\n",
        "lr.score(x_test,y_test)\n",
        "pred = lr.predict(x_test)"
      ],
      "metadata": {
        "id": "b5I4LyKqO05h"
      },
      "execution_count": 101,
      "outputs": []
    },
    {
      "cell_type": "markdown",
      "source": [
        "Here LogisticRegression show the different scores for each one\n",
        "\n",
        "      1.   Accuracy_score\n",
        "      2.   Recall_score\n",
        "      3.   Precision_score\n",
        "      4.   F1_score\n",
        "      5.   Confusion_matrix"
      ],
      "metadata": {
        "id": "Oac0rmTmSOZR"
      }
    },
    {
      "cell_type": "code",
      "source": [
        "from sklearn.metrics import accuracy_score,recall_score,precision_score,f1_score,confusion_matrix\n",
        "print(\"Confusion Matrix\")\n",
        "print(confusion_matrix(y_test,pred))\n",
        "print(accuracy_score(y_test,pred))\n",
        "print(recall_score(y_test,pred,average='macro'))\n",
        "print(precision_score(y_test,pred,average='macro'))\n",
        "print(f1_score(y_test,pred,average='macro'))"
      ],
      "metadata": {
        "colab": {
          "base_uri": "https://localhost:8080/"
        },
        "id": "kgp9k57rNKmI",
        "outputId": "40e3442c-6419-4efc-c440-e5955a266649"
      },
      "execution_count": 102,
      "outputs": [
        {
          "output_type": "stream",
          "name": "stdout",
          "text": [
            "Confusion Matrix\n",
            "[[     0      0      0      0      0  48050]\n",
            " [     0      0      0      0      0 156541]\n",
            " [     0      0      0      0      0  28932]\n",
            " [     0      0      0      0      0  23181]\n",
            " [     0      0      0      0      0  58850]\n",
            " [     0      0      0      0      0 208734]]\n",
            "0.3981285095214844\n",
            "0.16666666666666666\n",
            "0.06635475158691406\n",
            "0.09491938850402853\n"
          ]
        }
      ]
    },
    {
      "cell_type": "markdown",
      "source": [
        "## Text Classification with Decision Tree\n",
        "Here we have dataset which contains the features of all users that do activity"
      ],
      "metadata": {
        "id": "MdxwY7AmSkO0"
      }
    },
    {
      "cell_type": "code",
      "source": [
        "from sklearn.tree import DecisionTreeClassifier\n",
        "classifier=DecisionTreeClassifier()\n",
        "classifier.fit(x_train,y_train)\n",
        "pred=classifier.predict(x_test)"
      ],
      "metadata": {
        "id": "RSF7bdQJSrkc"
      },
      "execution_count": 103,
      "outputs": []
    },
    {
      "cell_type": "markdown",
      "source": [
        "# Text Classification with Decision Tree\n",
        "it shows different scores of\n",
        "*   Confusion_matrix\n",
        "*   Accuracy_score\n",
        "*   Precision_score\n",
        "*   Recall_score\n",
        "*   F1_score"
      ],
      "metadata": {
        "id": "j5KrI96oTCpP"
      }
    },
    {
      "cell_type": "code",
      "source": [
        "from sklearn.metrics import accuracy_score,precision_score,recall_score\n",
        "from sklearn.metrics import confusion_matrix\n",
        "cm=confusion_matrix(y_test,pred)\n",
        "print(\"confusion matrix\")\n",
        "print(cm)\n",
        "print('Accuracy score: {}'.format(accuracy_score(y_test, pred)))\n",
        "print('Precision score: {}'.format(precision_score(y_test, pred, average='macro')))\n",
        "print('Recall score: {}'.format(recall_score(y_test, pred, average='macro')))\n",
        "print('F1_score: {}'.format(f1_score(y_test,pred, average='macro')))"
      ],
      "metadata": {
        "colab": {
          "base_uri": "https://localhost:8080/"
        },
        "id": "91JNr8DNTMWK",
        "outputId": "26a67497-07f5-4b2b-f9b9-7e2df09c6060"
      },
      "execution_count": 104,
      "outputs": [
        {
          "output_type": "stream",
          "name": "stdout",
          "text": [
            "confusion matrix\n",
            "[[ 48050      0      0      0      0      0]\n",
            " [     0 156541      0      0      0      0]\n",
            " [     0      0  28932      0      0      0]\n",
            " [     0      0      0  23181      0      0]\n",
            " [     0      0      0      0  58850      0]\n",
            " [     0      0      0      0      0 208734]]\n",
            "Accuracy score: 1.0\n",
            "Precision score: 1.0\n",
            "Recall score: 1.0\n",
            "F1_score: 1.0\n"
          ]
        }
      ]
    },
    {
      "cell_type": "markdown",
      "source": [
        "#Text Classification with KNeighbors Classifier\n",
        "###Here we have dataset which contains the features of all user that do activities"
      ],
      "metadata": {
        "id": "Z_CiESX-Thzb"
      }
    },
    {
      "cell_type": "code",
      "source": [
        "from sklearn.neighbors import KNeighborsClassifier\n",
        "classifier=KNeighborsClassifier()\n",
        "classifier.fit(x_train,y_train)\n",
        "pred=classifier.predict(x_test)"
      ],
      "metadata": {
        "id": "6iQUOCaASiid"
      },
      "execution_count": 105,
      "outputs": []
    },
    {
      "cell_type": "markdown",
      "source": [
        "#KNeighbors Classifier \n",
        "it shows different scores of\n",
        "1. Confusion_matrix\n",
        "2. Accuracy_score\n",
        "3. Precision_score\n",
        "4. Recall_score\n",
        "5. F1_score"
      ],
      "metadata": {
        "id": "NoSN6o5oT2aU"
      }
    },
    {
      "cell_type": "code",
      "source": [
        "from sklearn.metrics import accuracy_score,precision_score,recall_score\n",
        "from sklearn.metrics import confusion_matrix\n",
        "cm=confusion_matrix(y_test,pred)\n",
        "print(\"confusion matrix\")\n",
        "print(cm)\n",
        "print('Accuracy score: {}'.format(accuracy_score(y_test, pred)))\n",
        "print('Precision score: {}'.format(precision_score(y_test, pred,average='macro')))\n",
        "print('Recall score: {}'.format(recall_score(y_test, pred,average='macro')))\n",
        "print('F1_score: {}'.format(f1_score(y_test,pred,average='macro')))"
      ],
      "metadata": {
        "colab": {
          "base_uri": "https://localhost:8080/"
        },
        "id": "2EZrfZg4UBdm",
        "outputId": "0aab2831-2377-4382-a2d3-a9100d249ad3"
      },
      "execution_count": 106,
      "outputs": [
        {
          "output_type": "stream",
          "name": "stdout",
          "text": [
            "confusion matrix\n",
            "[[ 32921   4310    535    276   3266   6742]\n",
            " [  6404 110446   1708   3208   6195  28580]\n",
            " [  1186   3615  17395    128    878   5730]\n",
            " [   603   3350    157  14726    634   3711]\n",
            " [  4749   5508    703    724  37383   9783]\n",
            " [  7342  30824   3258   2497   9062 155751]]\n",
            "Accuracy score: 0.7030906677246094\n",
            "Precision score: 0.6874219997724008\n",
            "Recall score: 0.6680958026848667\n",
            "F1_score: 0.6762397568612436\n"
          ]
        }
      ]
    },
    {
      "cell_type": "markdown",
      "source": [
        "## Text Classification with GaussianNB\n",
        "Here we have dataset which contains the features of all users that do activities"
      ],
      "metadata": {
        "id": "lf-xXak2Yk8U"
      }
    },
    {
      "cell_type": "code",
      "source": [
        "from sklearn.naive_bayes import GaussianNB\n",
        "classifier=GaussianNB()\n",
        "classifier.fit(x_train,y_train)\n",
        "pred=classifier.predict(x_test)"
      ],
      "metadata": {
        "id": "6aYn3o9SYv_o"
      },
      "execution_count": 107,
      "outputs": []
    },
    {
      "cell_type": "markdown",
      "source": [
        "#GaussianNB Classifier\n",
        "it shows different scores of\n",
        "1. Confusion_matrix\n",
        "2. Accuracy_score\n",
        "3. Precision_score\n",
        "4. Recall_score\n",
        "5. F1_score"
      ],
      "metadata": {
        "id": "FEsFzxJtZPiM"
      }
    },
    {
      "cell_type": "code",
      "source": [
        "from sklearn.metrics import accuracy_score,precision_score,recall_score\n",
        "from sklearn.metrics import confusion_matrix\n",
        "cm=confusion_matrix(y_test,pred)\n",
        "print(\"confusion matrix\")\n",
        "print(cm)\n",
        "print('Accuracy score: {}'.format(accuracy_score(y_test, pred)))\n",
        "print('Precision score: {}'.format(precision_score(y_test, pred,average='macro')))\n",
        "print('Recall score: {}'.format(recall_score(y_test, pred,average='macro')))\n",
        "print('F1_score: {}'.format(f1_score(y_test,pred,average='macro')))"
      ],
      "metadata": {
        "colab": {
          "base_uri": "https://localhost:8080/"
        },
        "id": "nehG5qvIZQie",
        "outputId": "fdf0b632-8a95-46b9-e5ce-9216f336a408"
      },
      "execution_count": 108,
      "outputs": [
        {
          "output_type": "stream",
          "name": "stdout",
          "text": [
            "confusion matrix\n",
            "[[     0      0      0   1142      0  46908]\n",
            " [     0      0      0   4660      0 151881]\n",
            " [     0      0      0   1284      0  27648]\n",
            " [     0      0      0   1195      0  21986]\n",
            " [     0      0      0   1763      0  57087]\n",
            " [     0      0      0   5495      0 203239]]\n",
            "Accuracy score: 0.3899269104003906\n",
            "Precision score: 0.07939850645832879\n",
            "Recall score: 0.17087091133380297\n",
            "F1_score: 0.10470974838783387\n"
          ]
        }
      ]
    },
    {
      "cell_type": "markdown",
      "source": [
        "#Text Clssification with RandomForestClassfier\n",
        "###Here we have dataset which contains the features of all user that do activities"
      ],
      "metadata": {
        "id": "i-3uSIrUZlMy"
      }
    },
    {
      "cell_type": "code",
      "source": [
        "from sklearn.ensemble import RandomForestClassifier\n",
        "classifier=RandomForestClassifier(n_estimators=10)\n",
        "classifier.fit(x_train,y_train)\n",
        "pred=classifier.predict(x_test)"
      ],
      "metadata": {
        "id": "_nV_Wse-TvsV"
      },
      "execution_count": 109,
      "outputs": []
    },
    {
      "cell_type": "markdown",
      "source": [
        "it shows different scores of\n",
        "1. Confusion_matrix\n",
        "2. Accuracy_score\n",
        "3. Precision_score\n",
        "4. Recall_score\n",
        "5. F1_score"
      ],
      "metadata": {
        "id": "Y-U2MykOaAjk"
      }
    },
    {
      "cell_type": "code",
      "source": [
        "from sklearn.metrics import accuracy_score,precision_score,recall_score\n",
        "from sklearn.metrics import confusion_matrix\n",
        "cm=confusion_matrix(y_test,pred)\n",
        "print(\"confusion matrix\")\n",
        "print(cm)\n",
        "print('Accuracy score: {}'.format(accuracy_score(y_test, pred)))\n",
        "print('Precision score: {}'.format(precision_score(y_test, pred,average='macro')))\n",
        "print('Recall score: {}'.format(recall_score(y_test, pred,average='macro')))\n",
        "print('F1_score: {}'.format(f1_score(y_test,pred,average='macro')))"
      ],
      "metadata": {
        "colab": {
          "base_uri": "https://localhost:8080/"
        },
        "id": "VXAnJuPEaIRk",
        "outputId": "4eff0d49-39f7-4ac5-a63c-e2ed39cbccd0"
      },
      "execution_count": 110,
      "outputs": [
        {
          "output_type": "stream",
          "name": "stdout",
          "text": [
            "confusion matrix\n",
            "[[ 48050      0      0      0      0      0]\n",
            " [     0 156541      0      0      0      0]\n",
            " [     0      0  28932      0      0      0]\n",
            " [     0      0      2  23179      0      0]\n",
            " [     0      0      0      0  58850      0]\n",
            " [     0      0      0      0      0 208734]]\n",
            "Accuracy score: 0.9999961853027344\n",
            "Precision score: 0.9999884795281214\n",
            "Recall score: 0.9999856204075176\n",
            "F1_score: 0.9999870494585584\n"
          ]
        }
      ]
    },
    {
      "cell_type": "code",
      "source": [
        "from sklearn.tree import DecisionTreeClassifier\n",
        "model=DecisionTreeClassifier()"
      ],
      "metadata": {
        "id": "QrFupQcNaRlu"
      },
      "execution_count": 111,
      "outputs": []
    },
    {
      "cell_type": "code",
      "source": [
        "model.fit(x_train,y_train)"
      ],
      "metadata": {
        "colab": {
          "base_uri": "https://localhost:8080/"
        },
        "id": "jsL5O-C2Z42v",
        "outputId": "8ac71e18-bb71-449c-cffe-e2c2adfe7e40"
      },
      "execution_count": 112,
      "outputs": [
        {
          "output_type": "execute_result",
          "data": {
            "text/plain": [
              "DecisionTreeClassifier()"
            ]
          },
          "metadata": {},
          "execution_count": 112
        }
      ]
    },
    {
      "cell_type": "code",
      "source": [
        "model.predict(x_test)"
      ],
      "metadata": {
        "colab": {
          "base_uri": "https://localhost:8080/"
        },
        "id": "NUHoDDi0ahnx",
        "outputId": "15bf8fbf-fa6c-4af2-fcdc-748629fe5418"
      },
      "execution_count": 113,
      "outputs": [
        {
          "output_type": "execute_result",
          "data": {
            "text/plain": [
              "array([3, 5, 1, ..., 1, 5, 5])"
            ]
          },
          "metadata": {},
          "execution_count": 113
        }
      ]
    },
    {
      "cell_type": "code",
      "source": [
        "model.predict_proba(x_test)"
      ],
      "metadata": {
        "colab": {
          "base_uri": "https://localhost:8080/"
        },
        "id": "EPOdMWuJaoMt",
        "outputId": "98808b95-629c-4f49-dc35-cb1e2854af64"
      },
      "execution_count": 114,
      "outputs": [
        {
          "output_type": "execute_result",
          "data": {
            "text/plain": [
              "array([[0., 0., 0., 1., 0., 0.],\n",
              "       [0., 0., 0., 0., 0., 1.],\n",
              "       [0., 1., 0., 0., 0., 0.],\n",
              "       ...,\n",
              "       [0., 1., 0., 0., 0., 0.],\n",
              "       [0., 0., 0., 0., 0., 1.],\n",
              "       [0., 0., 0., 0., 0., 1.]])"
            ]
          },
          "metadata": {},
          "execution_count": 114
        }
      ]
    },
    {
      "cell_type": "code",
      "source": [
        "model.score(x_test,y_test)"
      ],
      "metadata": {
        "colab": {
          "base_uri": "https://localhost:8080/"
        },
        "id": "fjFV7q1uavcV",
        "outputId": "5fc1c37c-176b-436d-ef4e-99cd00008a57"
      },
      "execution_count": 115,
      "outputs": [
        {
          "output_type": "execute_result",
          "data": {
            "text/plain": [
              "1.0"
            ]
          },
          "metadata": {},
          "execution_count": 115
        }
      ]
    },
    {
      "cell_type": "code",
      "source": [],
      "metadata": {
        "id": "ku_3lfYXa1T5"
      },
      "execution_count": null,
      "outputs": []
    }
  ]
}